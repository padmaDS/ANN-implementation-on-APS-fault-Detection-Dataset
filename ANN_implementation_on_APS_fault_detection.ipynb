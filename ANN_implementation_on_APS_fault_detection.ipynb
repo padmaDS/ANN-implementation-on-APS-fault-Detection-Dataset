{
  "nbformat": 4,
  "nbformat_minor": 0,
  "metadata": {
    "colab": {
      "provenance": []
    },
    "kernelspec": {
      "name": "python3",
      "display_name": "Python 3"
    },
    "language_info": {
      "name": "python"
    },
    "accelerator": "GPU",
    "gpuClass": "standard"
  },
  "cells": [
    {
      "cell_type": "code",
      "source": [
        "!pip install tensorflow-gpu"
      ],
      "metadata": {
        "colab": {
          "base_uri": "https://localhost:8080/"
        },
        "id": "gNrOWczLzASr",
        "outputId": "30083665-af8c-46db-d7f7-979911ba373d"
      },
      "execution_count": null,
      "outputs": [
        {
          "output_type": "stream",
          "name": "stdout",
          "text": [
            "Looking in indexes: https://pypi.org/simple, https://us-python.pkg.dev/colab-wheels/public/simple/\n",
            "Collecting tensorflow-gpu\n",
            "  Using cached tensorflow-gpu-2.12.0.tar.gz (2.6 kB)\n",
            "  Preparing metadata (setup.py) ... \u001b[?25l\u001b[?25hdone\n",
            "Requirement already satisfied: python_version>\"3.7\" in /usr/local/lib/python3.8/dist-packages (from tensorflow-gpu) (0.0.2)\n",
            "Building wheels for collected packages: tensorflow-gpu\n",
            "  \u001b[1;31merror\u001b[0m: \u001b[1msubprocess-exited-with-error\u001b[0m\n",
            "  \n",
            "  \u001b[31m×\u001b[0m \u001b[32mpython setup.py bdist_wheel\u001b[0m did not run successfully.\n",
            "  \u001b[31m│\u001b[0m exit code: \u001b[1;36m1\u001b[0m\n",
            "  \u001b[31m╰─>\u001b[0m See above for output.\n",
            "  \n",
            "  \u001b[1;35mnote\u001b[0m: This error originates from a subprocess, and is likely not a problem with pip.\n",
            "  Building wheel for tensorflow-gpu (setup.py) ... \u001b[?25lerror\n",
            "\u001b[31m  ERROR: Failed building wheel for tensorflow-gpu\u001b[0m\u001b[31m\n",
            "\u001b[0m\u001b[?25h  Running setup.py clean for tensorflow-gpu\n",
            "Failed to build tensorflow-gpu\n",
            "Installing collected packages: tensorflow-gpu\n",
            "  \u001b[1;31merror\u001b[0m: \u001b[1msubprocess-exited-with-error\u001b[0m\n",
            "  \n",
            "  \u001b[31m×\u001b[0m \u001b[32mRunning setup.py install for tensorflow-gpu\u001b[0m did not run successfully.\n",
            "  \u001b[31m│\u001b[0m exit code: \u001b[1;36m1\u001b[0m\n",
            "  \u001b[31m╰─>\u001b[0m See above for output.\n",
            "  \n",
            "  \u001b[1;35mnote\u001b[0m: This error originates from a subprocess, and is likely not a problem with pip.\n",
            "  Running setup.py install for tensorflow-gpu ... \u001b[?25l\u001b[?25herror\n",
            "\u001b[1;31merror\u001b[0m: \u001b[1mlegacy-install-failure\u001b[0m\n",
            "\n",
            "\u001b[31m×\u001b[0m Encountered error while trying to install package.\n",
            "\u001b[31m╰─>\u001b[0m tensorflow-gpu\n",
            "\n",
            "\u001b[1;35mnote\u001b[0m: This is an issue with the package mentioned above, not pip.\n",
            "\u001b[1;36mhint\u001b[0m: See above for output from the failure.\n"
          ]
        }
      ]
    },
    {
      "cell_type": "code",
      "execution_count": null,
      "metadata": {
        "colab": {
          "base_uri": "https://localhost:8080/"
        },
        "id": "mqIXJqatyf1x",
        "outputId": "55bf8901-70ef-471b-93c4-53fbb1d153e6"
      },
      "outputs": [
        {
          "output_type": "stream",
          "name": "stdout",
          "text": [
            "2.9.2\n"
          ]
        }
      ],
      "source": [
        "import tensorflow as tf\n",
        "print(tf.__version__)\n"
      ]
    },
    {
      "cell_type": "code",
      "source": [
        "import pandas as pd\n",
        "import numpy as np\n",
        "import seaborn as sns\n",
        "import matplotlib.pyplot as plt\n"
      ],
      "metadata": {
        "id": "a1G5yK7kywmk"
      },
      "execution_count": null,
      "outputs": []
    },
    {
      "cell_type": "code",
      "source": [
        "data = pd.read_csv('/content/aps_data.csv')"
      ],
      "metadata": {
        "id": "mNE4osDmzghW",
        "colab": {
          "base_uri": "https://localhost:8080/"
        },
        "outputId": "69c1304f-e407-4b52-8622-fc490afaf925"
      },
      "execution_count": null,
      "outputs": [
        {
          "output_type": "stream",
          "name": "stderr",
          "text": [
            "/usr/local/lib/python3.8/dist-packages/IPython/core/interactiveshell.py:3326: DtypeWarning: Columns (81) have mixed types.Specify dtype option on import or set low_memory=False.\n",
            "  exec(code_obj, self.user_global_ns, self.user_ns)\n"
          ]
        }
      ]
    },
    {
      "cell_type": "code",
      "source": [
        "data.head()"
      ],
      "metadata": {
        "colab": {
          "base_uri": "https://localhost:8080/",
          "height": 299
        },
        "id": "8OW1wAlKzlDs",
        "outputId": "0000b02b-99bc-499a-d2a0-afded9c15ad7"
      },
      "execution_count": null,
      "outputs": [
        {
          "output_type": "execute_result",
          "data": {
            "text/plain": [
              "  class  aa_000 ab_000 ac_000 ad_000 ae_000 af_000 ag_000 ag_001 ag_002  ...  \\\n",
              "0   neg       6      0      0      0      0      0      0      0      0  ...   \n",
              "1   neg      90      0      0     66      0      0      0      0      0  ...   \n",
              "2   neg      30     na     16     14      0      0      0      0      0  ...   \n",
              "3   neg     444     na     14     12      0      0      0      0      0  ...   \n",
              "4   neg      82     na     12     10      0      0      0      0   1464  ...   \n",
              "\n",
              "  ee_002 ee_003 ee_004 ee_005 ee_006 ee_007 ee_008 ee_009 ef_000 eg_000  \n",
              "0     26      8     26     52      0      0      0      0      0      0  \n",
              "1   1268    526    554    300    118    260      0      0      0      0  \n",
              "2    480     84     74     50     46      0      0      0      0      0  \n",
              "3   1614   1144   3598   2460   1258   8524    110      0      0      0  \n",
              "4   1010    132    310     56     92   1292      0      0      0      0  \n",
              "\n",
              "[5 rows x 171 columns]"
            ],
            "text/html": [
              "\n",
              "  <div id=\"df-e5f970a5-a32f-4570-ac76-711594a012cc\">\n",
              "    <div class=\"colab-df-container\">\n",
              "      <div>\n",
              "<style scoped>\n",
              "    .dataframe tbody tr th:only-of-type {\n",
              "        vertical-align: middle;\n",
              "    }\n",
              "\n",
              "    .dataframe tbody tr th {\n",
              "        vertical-align: top;\n",
              "    }\n",
              "\n",
              "    .dataframe thead th {\n",
              "        text-align: right;\n",
              "    }\n",
              "</style>\n",
              "<table border=\"1\" class=\"dataframe\">\n",
              "  <thead>\n",
              "    <tr style=\"text-align: right;\">\n",
              "      <th></th>\n",
              "      <th>class</th>\n",
              "      <th>aa_000</th>\n",
              "      <th>ab_000</th>\n",
              "      <th>ac_000</th>\n",
              "      <th>ad_000</th>\n",
              "      <th>ae_000</th>\n",
              "      <th>af_000</th>\n",
              "      <th>ag_000</th>\n",
              "      <th>ag_001</th>\n",
              "      <th>ag_002</th>\n",
              "      <th>...</th>\n",
              "      <th>ee_002</th>\n",
              "      <th>ee_003</th>\n",
              "      <th>ee_004</th>\n",
              "      <th>ee_005</th>\n",
              "      <th>ee_006</th>\n",
              "      <th>ee_007</th>\n",
              "      <th>ee_008</th>\n",
              "      <th>ee_009</th>\n",
              "      <th>ef_000</th>\n",
              "      <th>eg_000</th>\n",
              "    </tr>\n",
              "  </thead>\n",
              "  <tbody>\n",
              "    <tr>\n",
              "      <th>0</th>\n",
              "      <td>neg</td>\n",
              "      <td>6</td>\n",
              "      <td>0</td>\n",
              "      <td>0</td>\n",
              "      <td>0</td>\n",
              "      <td>0</td>\n",
              "      <td>0</td>\n",
              "      <td>0</td>\n",
              "      <td>0</td>\n",
              "      <td>0</td>\n",
              "      <td>...</td>\n",
              "      <td>26</td>\n",
              "      <td>8</td>\n",
              "      <td>26</td>\n",
              "      <td>52</td>\n",
              "      <td>0</td>\n",
              "      <td>0</td>\n",
              "      <td>0</td>\n",
              "      <td>0</td>\n",
              "      <td>0</td>\n",
              "      <td>0</td>\n",
              "    </tr>\n",
              "    <tr>\n",
              "      <th>1</th>\n",
              "      <td>neg</td>\n",
              "      <td>90</td>\n",
              "      <td>0</td>\n",
              "      <td>0</td>\n",
              "      <td>66</td>\n",
              "      <td>0</td>\n",
              "      <td>0</td>\n",
              "      <td>0</td>\n",
              "      <td>0</td>\n",
              "      <td>0</td>\n",
              "      <td>...</td>\n",
              "      <td>1268</td>\n",
              "      <td>526</td>\n",
              "      <td>554</td>\n",
              "      <td>300</td>\n",
              "      <td>118</td>\n",
              "      <td>260</td>\n",
              "      <td>0</td>\n",
              "      <td>0</td>\n",
              "      <td>0</td>\n",
              "      <td>0</td>\n",
              "    </tr>\n",
              "    <tr>\n",
              "      <th>2</th>\n",
              "      <td>neg</td>\n",
              "      <td>30</td>\n",
              "      <td>na</td>\n",
              "      <td>16</td>\n",
              "      <td>14</td>\n",
              "      <td>0</td>\n",
              "      <td>0</td>\n",
              "      <td>0</td>\n",
              "      <td>0</td>\n",
              "      <td>0</td>\n",
              "      <td>...</td>\n",
              "      <td>480</td>\n",
              "      <td>84</td>\n",
              "      <td>74</td>\n",
              "      <td>50</td>\n",
              "      <td>46</td>\n",
              "      <td>0</td>\n",
              "      <td>0</td>\n",
              "      <td>0</td>\n",
              "      <td>0</td>\n",
              "      <td>0</td>\n",
              "    </tr>\n",
              "    <tr>\n",
              "      <th>3</th>\n",
              "      <td>neg</td>\n",
              "      <td>444</td>\n",
              "      <td>na</td>\n",
              "      <td>14</td>\n",
              "      <td>12</td>\n",
              "      <td>0</td>\n",
              "      <td>0</td>\n",
              "      <td>0</td>\n",
              "      <td>0</td>\n",
              "      <td>0</td>\n",
              "      <td>...</td>\n",
              "      <td>1614</td>\n",
              "      <td>1144</td>\n",
              "      <td>3598</td>\n",
              "      <td>2460</td>\n",
              "      <td>1258</td>\n",
              "      <td>8524</td>\n",
              "      <td>110</td>\n",
              "      <td>0</td>\n",
              "      <td>0</td>\n",
              "      <td>0</td>\n",
              "    </tr>\n",
              "    <tr>\n",
              "      <th>4</th>\n",
              "      <td>neg</td>\n",
              "      <td>82</td>\n",
              "      <td>na</td>\n",
              "      <td>12</td>\n",
              "      <td>10</td>\n",
              "      <td>0</td>\n",
              "      <td>0</td>\n",
              "      <td>0</td>\n",
              "      <td>0</td>\n",
              "      <td>1464</td>\n",
              "      <td>...</td>\n",
              "      <td>1010</td>\n",
              "      <td>132</td>\n",
              "      <td>310</td>\n",
              "      <td>56</td>\n",
              "      <td>92</td>\n",
              "      <td>1292</td>\n",
              "      <td>0</td>\n",
              "      <td>0</td>\n",
              "      <td>0</td>\n",
              "      <td>0</td>\n",
              "    </tr>\n",
              "  </tbody>\n",
              "</table>\n",
              "<p>5 rows × 171 columns</p>\n",
              "</div>\n",
              "      <button class=\"colab-df-convert\" onclick=\"convertToInteractive('df-e5f970a5-a32f-4570-ac76-711594a012cc')\"\n",
              "              title=\"Convert this dataframe to an interactive table.\"\n",
              "              style=\"display:none;\">\n",
              "        \n",
              "  <svg xmlns=\"http://www.w3.org/2000/svg\" height=\"24px\"viewBox=\"0 0 24 24\"\n",
              "       width=\"24px\">\n",
              "    <path d=\"M0 0h24v24H0V0z\" fill=\"none\"/>\n",
              "    <path d=\"M18.56 5.44l.94 2.06.94-2.06 2.06-.94-2.06-.94-.94-2.06-.94 2.06-2.06.94zm-11 1L8.5 8.5l.94-2.06 2.06-.94-2.06-.94L8.5 2.5l-.94 2.06-2.06.94zm10 10l.94 2.06.94-2.06 2.06-.94-2.06-.94-.94-2.06-.94 2.06-2.06.94z\"/><path d=\"M17.41 7.96l-1.37-1.37c-.4-.4-.92-.59-1.43-.59-.52 0-1.04.2-1.43.59L10.3 9.45l-7.72 7.72c-.78.78-.78 2.05 0 2.83L4 21.41c.39.39.9.59 1.41.59.51 0 1.02-.2 1.41-.59l7.78-7.78 2.81-2.81c.8-.78.8-2.07 0-2.86zM5.41 20L4 18.59l7.72-7.72 1.47 1.35L5.41 20z\"/>\n",
              "  </svg>\n",
              "      </button>\n",
              "      \n",
              "  <style>\n",
              "    .colab-df-container {\n",
              "      display:flex;\n",
              "      flex-wrap:wrap;\n",
              "      gap: 12px;\n",
              "    }\n",
              "\n",
              "    .colab-df-convert {\n",
              "      background-color: #E8F0FE;\n",
              "      border: none;\n",
              "      border-radius: 50%;\n",
              "      cursor: pointer;\n",
              "      display: none;\n",
              "      fill: #1967D2;\n",
              "      height: 32px;\n",
              "      padding: 0 0 0 0;\n",
              "      width: 32px;\n",
              "    }\n",
              "\n",
              "    .colab-df-convert:hover {\n",
              "      background-color: #E2EBFA;\n",
              "      box-shadow: 0px 1px 2px rgba(60, 64, 67, 0.3), 0px 1px 3px 1px rgba(60, 64, 67, 0.15);\n",
              "      fill: #174EA6;\n",
              "    }\n",
              "\n",
              "    [theme=dark] .colab-df-convert {\n",
              "      background-color: #3B4455;\n",
              "      fill: #D2E3FC;\n",
              "    }\n",
              "\n",
              "    [theme=dark] .colab-df-convert:hover {\n",
              "      background-color: #434B5C;\n",
              "      box-shadow: 0px 1px 3px 1px rgba(0, 0, 0, 0.15);\n",
              "      filter: drop-shadow(0px 1px 2px rgba(0, 0, 0, 0.3));\n",
              "      fill: #FFFFFF;\n",
              "    }\n",
              "  </style>\n",
              "\n",
              "      <script>\n",
              "        const buttonEl =\n",
              "          document.querySelector('#df-e5f970a5-a32f-4570-ac76-711594a012cc button.colab-df-convert');\n",
              "        buttonEl.style.display =\n",
              "          google.colab.kernel.accessAllowed ? 'block' : 'none';\n",
              "\n",
              "        async function convertToInteractive(key) {\n",
              "          const element = document.querySelector('#df-e5f970a5-a32f-4570-ac76-711594a012cc');\n",
              "          const dataTable =\n",
              "            await google.colab.kernel.invokeFunction('convertToInteractive',\n",
              "                                                     [key], {});\n",
              "          if (!dataTable) return;\n",
              "\n",
              "          const docLinkHtml = 'Like what you see? Visit the ' +\n",
              "            '<a target=\"_blank\" href=https://colab.research.google.com/notebooks/data_table.ipynb>data table notebook</a>'\n",
              "            + ' to learn more about interactive tables.';\n",
              "          element.innerHTML = '';\n",
              "          dataTable['output_type'] = 'display_data';\n",
              "          await google.colab.output.renderOutput(dataTable, element);\n",
              "          const docLink = document.createElement('div');\n",
              "          docLink.innerHTML = docLinkHtml;\n",
              "          element.appendChild(docLink);\n",
              "        }\n",
              "      </script>\n",
              "    </div>\n",
              "  </div>\n",
              "  "
            ]
          },
          "metadata": {},
          "execution_count": 58
        }
      ]
    },
    {
      "cell_type": "code",
      "source": [
        "data.isnull().sum()"
      ],
      "metadata": {
        "colab": {
          "base_uri": "https://localhost:8080/"
        },
        "id": "YMZ0S2pIzqQN",
        "outputId": "3da21c63-487a-486a-d89a-02f57ef7f9da"
      },
      "execution_count": null,
      "outputs": [
        {
          "output_type": "execute_result",
          "data": {
            "text/plain": [
              "class     0\n",
              "aa_000    0\n",
              "ab_000    0\n",
              "ac_000    0\n",
              "ad_000    0\n",
              "         ..\n",
              "ee_007    0\n",
              "ee_008    0\n",
              "ee_009    0\n",
              "ef_000    0\n",
              "eg_000    0\n",
              "Length: 171, dtype: int64"
            ]
          },
          "metadata": {},
          "execution_count": 59
        }
      ]
    },
    {
      "cell_type": "code",
      "source": [
        "np.nan"
      ],
      "metadata": {
        "colab": {
          "base_uri": "https://localhost:8080/"
        },
        "id": "hHyUXP40z9Uh",
        "outputId": "5dcde0c7-0821-4ee7-fa13-ced444ec6874"
      },
      "execution_count": null,
      "outputs": [
        {
          "output_type": "execute_result",
          "data": {
            "text/plain": [
              "nan"
            ]
          },
          "metadata": {},
          "execution_count": 60
        }
      ]
    },
    {
      "cell_type": "code",
      "source": [
        "data = data.replace('na',np.nan)"
      ],
      "metadata": {
        "id": "GVxDTSTL0R-A"
      },
      "execution_count": null,
      "outputs": []
    },
    {
      "cell_type": "code",
      "source": [
        "data.head()"
      ],
      "metadata": {
        "colab": {
          "base_uri": "https://localhost:8080/",
          "height": 299
        },
        "id": "1ZX5RQ8t0ds6",
        "outputId": "8fa411f8-7b77-42ae-b20e-bc1ef60e2cce"
      },
      "execution_count": null,
      "outputs": [
        {
          "output_type": "execute_result",
          "data": {
            "text/plain": [
              "  class  aa_000 ab_000 ac_000 ad_000 ae_000 af_000 ag_000 ag_001 ag_002  ...  \\\n",
              "0   neg       6      0      0      0      0      0      0      0      0  ...   \n",
              "1   neg      90      0      0     66      0      0      0      0      0  ...   \n",
              "2   neg      30    NaN     16     14      0      0      0      0      0  ...   \n",
              "3   neg     444    NaN     14     12      0      0      0      0      0  ...   \n",
              "4   neg      82    NaN     12     10      0      0      0      0   1464  ...   \n",
              "\n",
              "  ee_002 ee_003 ee_004 ee_005 ee_006 ee_007 ee_008 ee_009 ef_000 eg_000  \n",
              "0     26      8     26     52      0      0      0      0      0      0  \n",
              "1   1268    526    554    300    118    260      0      0      0      0  \n",
              "2    480     84     74     50     46      0      0      0      0      0  \n",
              "3   1614   1144   3598   2460   1258   8524    110      0      0      0  \n",
              "4   1010    132    310     56     92   1292      0      0      0      0  \n",
              "\n",
              "[5 rows x 171 columns]"
            ],
            "text/html": [
              "\n",
              "  <div id=\"df-a36e1d32-1f01-437a-b2b3-5b2c9191dbc0\">\n",
              "    <div class=\"colab-df-container\">\n",
              "      <div>\n",
              "<style scoped>\n",
              "    .dataframe tbody tr th:only-of-type {\n",
              "        vertical-align: middle;\n",
              "    }\n",
              "\n",
              "    .dataframe tbody tr th {\n",
              "        vertical-align: top;\n",
              "    }\n",
              "\n",
              "    .dataframe thead th {\n",
              "        text-align: right;\n",
              "    }\n",
              "</style>\n",
              "<table border=\"1\" class=\"dataframe\">\n",
              "  <thead>\n",
              "    <tr style=\"text-align: right;\">\n",
              "      <th></th>\n",
              "      <th>class</th>\n",
              "      <th>aa_000</th>\n",
              "      <th>ab_000</th>\n",
              "      <th>ac_000</th>\n",
              "      <th>ad_000</th>\n",
              "      <th>ae_000</th>\n",
              "      <th>af_000</th>\n",
              "      <th>ag_000</th>\n",
              "      <th>ag_001</th>\n",
              "      <th>ag_002</th>\n",
              "      <th>...</th>\n",
              "      <th>ee_002</th>\n",
              "      <th>ee_003</th>\n",
              "      <th>ee_004</th>\n",
              "      <th>ee_005</th>\n",
              "      <th>ee_006</th>\n",
              "      <th>ee_007</th>\n",
              "      <th>ee_008</th>\n",
              "      <th>ee_009</th>\n",
              "      <th>ef_000</th>\n",
              "      <th>eg_000</th>\n",
              "    </tr>\n",
              "  </thead>\n",
              "  <tbody>\n",
              "    <tr>\n",
              "      <th>0</th>\n",
              "      <td>neg</td>\n",
              "      <td>6</td>\n",
              "      <td>0</td>\n",
              "      <td>0</td>\n",
              "      <td>0</td>\n",
              "      <td>0</td>\n",
              "      <td>0</td>\n",
              "      <td>0</td>\n",
              "      <td>0</td>\n",
              "      <td>0</td>\n",
              "      <td>...</td>\n",
              "      <td>26</td>\n",
              "      <td>8</td>\n",
              "      <td>26</td>\n",
              "      <td>52</td>\n",
              "      <td>0</td>\n",
              "      <td>0</td>\n",
              "      <td>0</td>\n",
              "      <td>0</td>\n",
              "      <td>0</td>\n",
              "      <td>0</td>\n",
              "    </tr>\n",
              "    <tr>\n",
              "      <th>1</th>\n",
              "      <td>neg</td>\n",
              "      <td>90</td>\n",
              "      <td>0</td>\n",
              "      <td>0</td>\n",
              "      <td>66</td>\n",
              "      <td>0</td>\n",
              "      <td>0</td>\n",
              "      <td>0</td>\n",
              "      <td>0</td>\n",
              "      <td>0</td>\n",
              "      <td>...</td>\n",
              "      <td>1268</td>\n",
              "      <td>526</td>\n",
              "      <td>554</td>\n",
              "      <td>300</td>\n",
              "      <td>118</td>\n",
              "      <td>260</td>\n",
              "      <td>0</td>\n",
              "      <td>0</td>\n",
              "      <td>0</td>\n",
              "      <td>0</td>\n",
              "    </tr>\n",
              "    <tr>\n",
              "      <th>2</th>\n",
              "      <td>neg</td>\n",
              "      <td>30</td>\n",
              "      <td>NaN</td>\n",
              "      <td>16</td>\n",
              "      <td>14</td>\n",
              "      <td>0</td>\n",
              "      <td>0</td>\n",
              "      <td>0</td>\n",
              "      <td>0</td>\n",
              "      <td>0</td>\n",
              "      <td>...</td>\n",
              "      <td>480</td>\n",
              "      <td>84</td>\n",
              "      <td>74</td>\n",
              "      <td>50</td>\n",
              "      <td>46</td>\n",
              "      <td>0</td>\n",
              "      <td>0</td>\n",
              "      <td>0</td>\n",
              "      <td>0</td>\n",
              "      <td>0</td>\n",
              "    </tr>\n",
              "    <tr>\n",
              "      <th>3</th>\n",
              "      <td>neg</td>\n",
              "      <td>444</td>\n",
              "      <td>NaN</td>\n",
              "      <td>14</td>\n",
              "      <td>12</td>\n",
              "      <td>0</td>\n",
              "      <td>0</td>\n",
              "      <td>0</td>\n",
              "      <td>0</td>\n",
              "      <td>0</td>\n",
              "      <td>...</td>\n",
              "      <td>1614</td>\n",
              "      <td>1144</td>\n",
              "      <td>3598</td>\n",
              "      <td>2460</td>\n",
              "      <td>1258</td>\n",
              "      <td>8524</td>\n",
              "      <td>110</td>\n",
              "      <td>0</td>\n",
              "      <td>0</td>\n",
              "      <td>0</td>\n",
              "    </tr>\n",
              "    <tr>\n",
              "      <th>4</th>\n",
              "      <td>neg</td>\n",
              "      <td>82</td>\n",
              "      <td>NaN</td>\n",
              "      <td>12</td>\n",
              "      <td>10</td>\n",
              "      <td>0</td>\n",
              "      <td>0</td>\n",
              "      <td>0</td>\n",
              "      <td>0</td>\n",
              "      <td>1464</td>\n",
              "      <td>...</td>\n",
              "      <td>1010</td>\n",
              "      <td>132</td>\n",
              "      <td>310</td>\n",
              "      <td>56</td>\n",
              "      <td>92</td>\n",
              "      <td>1292</td>\n",
              "      <td>0</td>\n",
              "      <td>0</td>\n",
              "      <td>0</td>\n",
              "      <td>0</td>\n",
              "    </tr>\n",
              "  </tbody>\n",
              "</table>\n",
              "<p>5 rows × 171 columns</p>\n",
              "</div>\n",
              "      <button class=\"colab-df-convert\" onclick=\"convertToInteractive('df-a36e1d32-1f01-437a-b2b3-5b2c9191dbc0')\"\n",
              "              title=\"Convert this dataframe to an interactive table.\"\n",
              "              style=\"display:none;\">\n",
              "        \n",
              "  <svg xmlns=\"http://www.w3.org/2000/svg\" height=\"24px\"viewBox=\"0 0 24 24\"\n",
              "       width=\"24px\">\n",
              "    <path d=\"M0 0h24v24H0V0z\" fill=\"none\"/>\n",
              "    <path d=\"M18.56 5.44l.94 2.06.94-2.06 2.06-.94-2.06-.94-.94-2.06-.94 2.06-2.06.94zm-11 1L8.5 8.5l.94-2.06 2.06-.94-2.06-.94L8.5 2.5l-.94 2.06-2.06.94zm10 10l.94 2.06.94-2.06 2.06-.94-2.06-.94-.94-2.06-.94 2.06-2.06.94z\"/><path d=\"M17.41 7.96l-1.37-1.37c-.4-.4-.92-.59-1.43-.59-.52 0-1.04.2-1.43.59L10.3 9.45l-7.72 7.72c-.78.78-.78 2.05 0 2.83L4 21.41c.39.39.9.59 1.41.59.51 0 1.02-.2 1.41-.59l7.78-7.78 2.81-2.81c.8-.78.8-2.07 0-2.86zM5.41 20L4 18.59l7.72-7.72 1.47 1.35L5.41 20z\"/>\n",
              "  </svg>\n",
              "      </button>\n",
              "      \n",
              "  <style>\n",
              "    .colab-df-container {\n",
              "      display:flex;\n",
              "      flex-wrap:wrap;\n",
              "      gap: 12px;\n",
              "    }\n",
              "\n",
              "    .colab-df-convert {\n",
              "      background-color: #E8F0FE;\n",
              "      border: none;\n",
              "      border-radius: 50%;\n",
              "      cursor: pointer;\n",
              "      display: none;\n",
              "      fill: #1967D2;\n",
              "      height: 32px;\n",
              "      padding: 0 0 0 0;\n",
              "      width: 32px;\n",
              "    }\n",
              "\n",
              "    .colab-df-convert:hover {\n",
              "      background-color: #E2EBFA;\n",
              "      box-shadow: 0px 1px 2px rgba(60, 64, 67, 0.3), 0px 1px 3px 1px rgba(60, 64, 67, 0.15);\n",
              "      fill: #174EA6;\n",
              "    }\n",
              "\n",
              "    [theme=dark] .colab-df-convert {\n",
              "      background-color: #3B4455;\n",
              "      fill: #D2E3FC;\n",
              "    }\n",
              "\n",
              "    [theme=dark] .colab-df-convert:hover {\n",
              "      background-color: #434B5C;\n",
              "      box-shadow: 0px 1px 3px 1px rgba(0, 0, 0, 0.15);\n",
              "      filter: drop-shadow(0px 1px 2px rgba(0, 0, 0, 0.3));\n",
              "      fill: #FFFFFF;\n",
              "    }\n",
              "  </style>\n",
              "\n",
              "      <script>\n",
              "        const buttonEl =\n",
              "          document.querySelector('#df-a36e1d32-1f01-437a-b2b3-5b2c9191dbc0 button.colab-df-convert');\n",
              "        buttonEl.style.display =\n",
              "          google.colab.kernel.accessAllowed ? 'block' : 'none';\n",
              "\n",
              "        async function convertToInteractive(key) {\n",
              "          const element = document.querySelector('#df-a36e1d32-1f01-437a-b2b3-5b2c9191dbc0');\n",
              "          const dataTable =\n",
              "            await google.colab.kernel.invokeFunction('convertToInteractive',\n",
              "                                                     [key], {});\n",
              "          if (!dataTable) return;\n",
              "\n",
              "          const docLinkHtml = 'Like what you see? Visit the ' +\n",
              "            '<a target=\"_blank\" href=https://colab.research.google.com/notebooks/data_table.ipynb>data table notebook</a>'\n",
              "            + ' to learn more about interactive tables.';\n",
              "          element.innerHTML = '';\n",
              "          dataTable['output_type'] = 'display_data';\n",
              "          await google.colab.output.renderOutput(dataTable, element);\n",
              "          const docLink = document.createElement('div');\n",
              "          docLink.innerHTML = docLinkHtml;\n",
              "          element.appendChild(docLink);\n",
              "        }\n",
              "      </script>\n",
              "    </div>\n",
              "  </div>\n",
              "  "
            ]
          },
          "metadata": {},
          "execution_count": 62
        }
      ]
    },
    {
      "cell_type": "code",
      "source": [
        "data.isnull().sum()"
      ],
      "metadata": {
        "colab": {
          "base_uri": "https://localhost:8080/"
        },
        "id": "cqf8jEMc07yd",
        "outputId": "3df55b39-b229-4722-f63b-fdc0cf77d392"
      },
      "execution_count": null,
      "outputs": [
        {
          "output_type": "execute_result",
          "data": {
            "text/plain": [
              "class        0\n",
              "aa_000       0\n",
              "ab_000    3849\n",
              "ac_000     308\n",
              "ad_000    1236\n",
              "          ... \n",
              "ee_007      58\n",
              "ee_008      58\n",
              "ee_009      58\n",
              "ef_000     242\n",
              "eg_000     242\n",
              "Length: 171, dtype: int64"
            ]
          },
          "metadata": {},
          "execution_count": 63
        }
      ]
    },
    {
      "cell_type": "code",
      "source": [
        "pd.options.display.max_rows=10"
      ],
      "metadata": {
        "id": "Pz5mvCoB2bHm"
      },
      "execution_count": null,
      "outputs": []
    },
    {
      "cell_type": "code",
      "source": [
        "data.isnull().sum()"
      ],
      "metadata": {
        "colab": {
          "base_uri": "https://localhost:8080/"
        },
        "id": "2V1Q710q14Ez",
        "outputId": "b571f561-25f1-4362-b7a4-97c7937fa26b"
      },
      "execution_count": null,
      "outputs": [
        {
          "output_type": "execute_result",
          "data": {
            "text/plain": [
              "class        0\n",
              "aa_000       0\n",
              "ab_000    3849\n",
              "ac_000     308\n",
              "ad_000    1236\n",
              "          ... \n",
              "ee_007      58\n",
              "ee_008      58\n",
              "ee_009      58\n",
              "ef_000     242\n",
              "eg_000     242\n",
              "Length: 171, dtype: int64"
            ]
          },
          "metadata": {},
          "execution_count": 65
        }
      ]
    },
    {
      "cell_type": "code",
      "source": [
        "data.isnull().sum().sum()"
      ],
      "metadata": {
        "colab": {
          "base_uri": "https://localhost:8080/"
        },
        "id": "7nzMwlgc1NfZ",
        "outputId": "19b4c7a9-4030-4d2a-840c-61ad4e46d8e1"
      },
      "execution_count": null,
      "outputs": [
        {
          "output_type": "execute_result",
          "data": {
            "text/plain": [
              "71649"
            ]
          },
          "metadata": {},
          "execution_count": 66
        }
      ]
    },
    {
      "cell_type": "code",
      "source": [
        "pd.DataFrame(data.isnull().sum().sort_values(ascending=False)).rename(columns={0:'Null value count'})"
      ],
      "metadata": {
        "colab": {
          "base_uri": "https://localhost:8080/",
          "height": 423
        },
        "id": "qiXUHvd91lBa",
        "outputId": "87edad8e-5828-4aca-f4f8-38ab2cba1863"
      },
      "execution_count": null,
      "outputs": [
        {
          "data": {
            "text/html": [
              "\n",
              "  <div id=\"df-04ada2e4-8aff-4ed8-89e6-fa134c4ac437\">\n",
              "    <div class=\"colab-df-container\">\n",
              "      <div>\n",
              "<style scoped>\n",
              "    .dataframe tbody tr th:only-of-type {\n",
              "        vertical-align: middle;\n",
              "    }\n",
              "\n",
              "    .dataframe tbody tr th {\n",
              "        vertical-align: top;\n",
              "    }\n",
              "\n",
              "    .dataframe thead th {\n",
              "        text-align: right;\n",
              "    }\n",
              "</style>\n",
              "<table border=\"1\" class=\"dataframe\">\n",
              "  <thead>\n",
              "    <tr style=\"text-align: right;\">\n",
              "      <th></th>\n",
              "      <th>Null value count</th>\n",
              "    </tr>\n",
              "  </thead>\n",
              "  <tbody>\n",
              "    <tr>\n",
              "      <th>br_000</th>\n",
              "      <td>1179</td>\n",
              "    </tr>\n",
              "    <tr>\n",
              "      <th>bq_000</th>\n",
              "      <td>1163</td>\n",
              "    </tr>\n",
              "    <tr>\n",
              "      <th>bp_000</th>\n",
              "      <td>1140</td>\n",
              "    </tr>\n",
              "    <tr>\n",
              "      <th>bo_000</th>\n",
              "      <td>1109</td>\n",
              "    </tr>\n",
              "    <tr>\n",
              "      <th>ab_000</th>\n",
              "      <td>1075</td>\n",
              "    </tr>\n",
              "    <tr>\n",
              "      <th>...</th>\n",
              "      <td>...</td>\n",
              "    </tr>\n",
              "    <tr>\n",
              "      <th>ci_000</th>\n",
              "      <td>14</td>\n",
              "    </tr>\n",
              "    <tr>\n",
              "      <th>by_000</th>\n",
              "      <td>10</td>\n",
              "    </tr>\n",
              "    <tr>\n",
              "      <th>bt_000</th>\n",
              "      <td>1</td>\n",
              "    </tr>\n",
              "    <tr>\n",
              "      <th>aa_000</th>\n",
              "      <td>0</td>\n",
              "    </tr>\n",
              "    <tr>\n",
              "      <th>class</th>\n",
              "      <td>0</td>\n",
              "    </tr>\n",
              "  </tbody>\n",
              "</table>\n",
              "<p>171 rows × 1 columns</p>\n",
              "</div>\n",
              "      <button class=\"colab-df-convert\" onclick=\"convertToInteractive('df-04ada2e4-8aff-4ed8-89e6-fa134c4ac437')\"\n",
              "              title=\"Convert this dataframe to an interactive table.\"\n",
              "              style=\"display:none;\">\n",
              "        \n",
              "  <svg xmlns=\"http://www.w3.org/2000/svg\" height=\"24px\"viewBox=\"0 0 24 24\"\n",
              "       width=\"24px\">\n",
              "    <path d=\"M0 0h24v24H0V0z\" fill=\"none\"/>\n",
              "    <path d=\"M18.56 5.44l.94 2.06.94-2.06 2.06-.94-2.06-.94-.94-2.06-.94 2.06-2.06.94zm-11 1L8.5 8.5l.94-2.06 2.06-.94-2.06-.94L8.5 2.5l-.94 2.06-2.06.94zm10 10l.94 2.06.94-2.06 2.06-.94-2.06-.94-.94-2.06-.94 2.06-2.06.94z\"/><path d=\"M17.41 7.96l-1.37-1.37c-.4-.4-.92-.59-1.43-.59-.52 0-1.04.2-1.43.59L10.3 9.45l-7.72 7.72c-.78.78-.78 2.05 0 2.83L4 21.41c.39.39.9.59 1.41.59.51 0 1.02-.2 1.41-.59l7.78-7.78 2.81-2.81c.8-.78.8-2.07 0-2.86zM5.41 20L4 18.59l7.72-7.72 1.47 1.35L5.41 20z\"/>\n",
              "  </svg>\n",
              "      </button>\n",
              "      \n",
              "  <style>\n",
              "    .colab-df-container {\n",
              "      display:flex;\n",
              "      flex-wrap:wrap;\n",
              "      gap: 12px;\n",
              "    }\n",
              "\n",
              "    .colab-df-convert {\n",
              "      background-color: #E8F0FE;\n",
              "      border: none;\n",
              "      border-radius: 50%;\n",
              "      cursor: pointer;\n",
              "      display: none;\n",
              "      fill: #1967D2;\n",
              "      height: 32px;\n",
              "      padding: 0 0 0 0;\n",
              "      width: 32px;\n",
              "    }\n",
              "\n",
              "    .colab-df-convert:hover {\n",
              "      background-color: #E2EBFA;\n",
              "      box-shadow: 0px 1px 2px rgba(60, 64, 67, 0.3), 0px 1px 3px 1px rgba(60, 64, 67, 0.15);\n",
              "      fill: #174EA6;\n",
              "    }\n",
              "\n",
              "    [theme=dark] .colab-df-convert {\n",
              "      background-color: #3B4455;\n",
              "      fill: #D2E3FC;\n",
              "    }\n",
              "\n",
              "    [theme=dark] .colab-df-convert:hover {\n",
              "      background-color: #434B5C;\n",
              "      box-shadow: 0px 1px 3px 1px rgba(0, 0, 0, 0.15);\n",
              "      filter: drop-shadow(0px 1px 2px rgba(0, 0, 0, 0.3));\n",
              "      fill: #FFFFFF;\n",
              "    }\n",
              "  </style>\n",
              "\n",
              "      <script>\n",
              "        const buttonEl =\n",
              "          document.querySelector('#df-04ada2e4-8aff-4ed8-89e6-fa134c4ac437 button.colab-df-convert');\n",
              "        buttonEl.style.display =\n",
              "          google.colab.kernel.accessAllowed ? 'block' : 'none';\n",
              "\n",
              "        async function convertToInteractive(key) {\n",
              "          const element = document.querySelector('#df-04ada2e4-8aff-4ed8-89e6-fa134c4ac437');\n",
              "          const dataTable =\n",
              "            await google.colab.kernel.invokeFunction('convertToInteractive',\n",
              "                                                     [key], {});\n",
              "          if (!dataTable) return;\n",
              "\n",
              "          const docLinkHtml = 'Like what you see? Visit the ' +\n",
              "            '<a target=\"_blank\" href=https://colab.research.google.com/notebooks/data_table.ipynb>data table notebook</a>'\n",
              "            + ' to learn more about interactive tables.';\n",
              "          element.innerHTML = '';\n",
              "          dataTable['output_type'] = 'display_data';\n",
              "          await google.colab.output.renderOutput(dataTable, element);\n",
              "          const docLink = document.createElement('div');\n",
              "          docLink.innerHTML = docLinkHtml;\n",
              "          element.appendChild(docLink);\n",
              "        }\n",
              "      </script>\n",
              "    </div>\n",
              "  </div>\n",
              "  "
            ],
            "text/plain": [
              "        Null value count\n",
              "br_000              1179\n",
              "bq_000              1163\n",
              "bp_000              1140\n",
              "bo_000              1109\n",
              "ab_000              1075\n",
              "...                  ...\n",
              "ci_000                14\n",
              "by_000                10\n",
              "bt_000                 1\n",
              "aa_000                 0\n",
              "class                  0\n",
              "\n",
              "[171 rows x 1 columns]"
            ]
          },
          "execution_count": 14,
          "metadata": {},
          "output_type": "execute_result"
        }
      ]
    },
    {
      "cell_type": "code",
      "source": [
        "[feature for feature in data.columns if feature not in ['class']]"
      ],
      "metadata": {
        "id": "wA-j2Jvb8Z2Y",
        "outputId": "9b4a2440-33df-43b5-f7e1-a7c7255b8249",
        "colab": {
          "base_uri": "https://localhost:8080/"
        }
      },
      "execution_count": null,
      "outputs": [
        {
          "output_type": "execute_result",
          "data": {
            "text/plain": [
              "['aa_000',\n",
              " 'ab_000',\n",
              " 'ac_000',\n",
              " 'ad_000',\n",
              " 'ae_000',\n",
              " 'af_000',\n",
              " 'ag_000',\n",
              " 'ag_001',\n",
              " 'ag_002',\n",
              " 'ag_003',\n",
              " 'ag_004',\n",
              " 'ag_005',\n",
              " 'ag_006',\n",
              " 'ag_007',\n",
              " 'ag_008',\n",
              " 'ag_009',\n",
              " 'ah_000',\n",
              " 'ai_000',\n",
              " 'aj_000',\n",
              " 'ak_000',\n",
              " 'al_000',\n",
              " 'am_0',\n",
              " 'an_000',\n",
              " 'ao_000',\n",
              " 'ap_000',\n",
              " 'aq_000',\n",
              " 'ar_000',\n",
              " 'as_000',\n",
              " 'at_000',\n",
              " 'au_000',\n",
              " 'av_000',\n",
              " 'ax_000',\n",
              " 'ay_000',\n",
              " 'ay_001',\n",
              " 'ay_002',\n",
              " 'ay_003',\n",
              " 'ay_004',\n",
              " 'ay_005',\n",
              " 'ay_006',\n",
              " 'ay_007',\n",
              " 'ay_008',\n",
              " 'ay_009',\n",
              " 'az_000',\n",
              " 'az_001',\n",
              " 'az_002',\n",
              " 'az_003',\n",
              " 'az_004',\n",
              " 'az_005',\n",
              " 'az_006',\n",
              " 'az_007',\n",
              " 'az_008',\n",
              " 'az_009',\n",
              " 'ba_000',\n",
              " 'ba_001',\n",
              " 'ba_002',\n",
              " 'ba_003',\n",
              " 'ba_004',\n",
              " 'ba_005',\n",
              " 'ba_006',\n",
              " 'ba_007',\n",
              " 'ba_008',\n",
              " 'ba_009',\n",
              " 'bb_000',\n",
              " 'bc_000',\n",
              " 'bd_000',\n",
              " 'be_000',\n",
              " 'bf_000',\n",
              " 'bg_000',\n",
              " 'bh_000',\n",
              " 'bi_000',\n",
              " 'bj_000',\n",
              " 'bk_000',\n",
              " 'bl_000',\n",
              " 'bm_000',\n",
              " 'bn_000',\n",
              " 'bo_000',\n",
              " 'bp_000',\n",
              " 'bq_000',\n",
              " 'br_000',\n",
              " 'bs_000',\n",
              " 'bt_000',\n",
              " 'bu_000',\n",
              " 'bv_000',\n",
              " 'bx_000',\n",
              " 'by_000',\n",
              " 'bz_000',\n",
              " 'ca_000',\n",
              " 'cb_000',\n",
              " 'cc_000',\n",
              " 'cd_000',\n",
              " 'ce_000',\n",
              " 'cf_000',\n",
              " 'cg_000',\n",
              " 'ch_000',\n",
              " 'ci_000',\n",
              " 'cj_000',\n",
              " 'ck_000',\n",
              " 'cl_000',\n",
              " 'cm_000',\n",
              " 'cn_000',\n",
              " 'cn_001',\n",
              " 'cn_002',\n",
              " 'cn_003',\n",
              " 'cn_004',\n",
              " 'cn_005',\n",
              " 'cn_006',\n",
              " 'cn_007',\n",
              " 'cn_008',\n",
              " 'cn_009',\n",
              " 'co_000',\n",
              " 'cp_000',\n",
              " 'cq_000',\n",
              " 'cr_000',\n",
              " 'cs_000',\n",
              " 'cs_001',\n",
              " 'cs_002',\n",
              " 'cs_003',\n",
              " 'cs_004',\n",
              " 'cs_005',\n",
              " 'cs_006',\n",
              " 'cs_007',\n",
              " 'cs_008',\n",
              " 'cs_009',\n",
              " 'ct_000',\n",
              " 'cu_000',\n",
              " 'cv_000',\n",
              " 'cx_000',\n",
              " 'cy_000',\n",
              " 'cz_000',\n",
              " 'da_000',\n",
              " 'db_000',\n",
              " 'dc_000',\n",
              " 'dd_000',\n",
              " 'de_000',\n",
              " 'df_000',\n",
              " 'dg_000',\n",
              " 'dh_000',\n",
              " 'di_000',\n",
              " 'dj_000',\n",
              " 'dk_000',\n",
              " 'dl_000',\n",
              " 'dm_000',\n",
              " 'dn_000',\n",
              " 'do_000',\n",
              " 'dp_000',\n",
              " 'dq_000',\n",
              " 'dr_000',\n",
              " 'ds_000',\n",
              " 'dt_000',\n",
              " 'du_000',\n",
              " 'dv_000',\n",
              " 'dx_000',\n",
              " 'dy_000',\n",
              " 'dz_000',\n",
              " 'ea_000',\n",
              " 'eb_000',\n",
              " 'ec_00',\n",
              " 'ed_000',\n",
              " 'ee_000',\n",
              " 'ee_001',\n",
              " 'ee_002',\n",
              " 'ee_003',\n",
              " 'ee_004',\n",
              " 'ee_005',\n",
              " 'ee_006',\n",
              " 'ee_007',\n",
              " 'ee_008',\n",
              " 'ee_009',\n",
              " 'ef_000',\n",
              " 'eg_000']"
            ]
          },
          "metadata": {},
          "execution_count": 67
        }
      ]
    },
    {
      "cell_type": "code",
      "source": [
        "#Handling the null values using Median\n",
        "for feature in [feature for feature in data.columns if feature not in ['class']]:\n",
        "  data[feature] = data[feature].fillna(data[feature].median())"
      ],
      "metadata": {
        "id": "-YSO_yKc56W8"
      },
      "execution_count": null,
      "outputs": []
    },
    {
      "cell_type": "code",
      "source": [
        "data.isnull().sum()"
      ],
      "metadata": {
        "id": "_GWNQQEP6Lng",
        "colab": {
          "base_uri": "https://localhost:8080/"
        },
        "outputId": "d5166bd3-5c20-497d-8ffc-9f414ba41ab8"
      },
      "execution_count": null,
      "outputs": [
        {
          "output_type": "execute_result",
          "data": {
            "text/plain": [
              "class     0\n",
              "aa_000    0\n",
              "ab_000    0\n",
              "ac_000    0\n",
              "ad_000    0\n",
              "         ..\n",
              "ee_007    0\n",
              "ee_008    0\n",
              "ee_009    0\n",
              "ef_000    0\n",
              "eg_000    0\n",
              "Length: 171, dtype: int64"
            ]
          },
          "metadata": {},
          "execution_count": 69
        }
      ]
    },
    {
      "cell_type": "markdown",
      "source": [],
      "metadata": {
        "id": "Q8SELwQ655go"
      }
    },
    {
      "cell_type": "code",
      "source": [
        "data.isnull().sum().sum()"
      ],
      "metadata": {
        "id": "wkoKeHSS1z5j",
        "colab": {
          "base_uri": "https://localhost:8080/"
        },
        "outputId": "ebe3c87c-80c5-466d-ea50-7ce2daeb3a9f"
      },
      "execution_count": null,
      "outputs": [
        {
          "output_type": "execute_result",
          "data": {
            "text/plain": [
              "0"
            ]
          },
          "metadata": {},
          "execution_count": 70
        }
      ]
    },
    {
      "cell_type": "code",
      "source": [
        "pd.DataFrame(data.isnull().sum().sort_values(ascending=False)).rename(columns={0:'Null value count'})"
      ],
      "metadata": {
        "colab": {
          "base_uri": "https://localhost:8080/",
          "height": 423
        },
        "id": "gORzVQcgQYkD",
        "outputId": "ae1ead14-30c1-459b-9515-f4576b8f5f60"
      },
      "execution_count": null,
      "outputs": [
        {
          "output_type": "execute_result",
          "data": {
            "text/plain": [
              "        Null value count\n",
              "class                  0\n",
              "cs_003                 0\n",
              "cn_009                 0\n",
              "co_000                 0\n",
              "cp_000                 0\n",
              "...                  ...\n",
              "ba_005                 0\n",
              "ba_006                 0\n",
              "ba_007                 0\n",
              "ba_008                 0\n",
              "eg_000                 0\n",
              "\n",
              "[171 rows x 1 columns]"
            ],
            "text/html": [
              "\n",
              "  <div id=\"df-daff81a6-3f65-4a93-9904-a585384f5ac2\">\n",
              "    <div class=\"colab-df-container\">\n",
              "      <div>\n",
              "<style scoped>\n",
              "    .dataframe tbody tr th:only-of-type {\n",
              "        vertical-align: middle;\n",
              "    }\n",
              "\n",
              "    .dataframe tbody tr th {\n",
              "        vertical-align: top;\n",
              "    }\n",
              "\n",
              "    .dataframe thead th {\n",
              "        text-align: right;\n",
              "    }\n",
              "</style>\n",
              "<table border=\"1\" class=\"dataframe\">\n",
              "  <thead>\n",
              "    <tr style=\"text-align: right;\">\n",
              "      <th></th>\n",
              "      <th>Null value count</th>\n",
              "    </tr>\n",
              "  </thead>\n",
              "  <tbody>\n",
              "    <tr>\n",
              "      <th>class</th>\n",
              "      <td>0</td>\n",
              "    </tr>\n",
              "    <tr>\n",
              "      <th>cs_003</th>\n",
              "      <td>0</td>\n",
              "    </tr>\n",
              "    <tr>\n",
              "      <th>cn_009</th>\n",
              "      <td>0</td>\n",
              "    </tr>\n",
              "    <tr>\n",
              "      <th>co_000</th>\n",
              "      <td>0</td>\n",
              "    </tr>\n",
              "    <tr>\n",
              "      <th>cp_000</th>\n",
              "      <td>0</td>\n",
              "    </tr>\n",
              "    <tr>\n",
              "      <th>...</th>\n",
              "      <td>...</td>\n",
              "    </tr>\n",
              "    <tr>\n",
              "      <th>ba_005</th>\n",
              "      <td>0</td>\n",
              "    </tr>\n",
              "    <tr>\n",
              "      <th>ba_006</th>\n",
              "      <td>0</td>\n",
              "    </tr>\n",
              "    <tr>\n",
              "      <th>ba_007</th>\n",
              "      <td>0</td>\n",
              "    </tr>\n",
              "    <tr>\n",
              "      <th>ba_008</th>\n",
              "      <td>0</td>\n",
              "    </tr>\n",
              "    <tr>\n",
              "      <th>eg_000</th>\n",
              "      <td>0</td>\n",
              "    </tr>\n",
              "  </tbody>\n",
              "</table>\n",
              "<p>171 rows × 1 columns</p>\n",
              "</div>\n",
              "      <button class=\"colab-df-convert\" onclick=\"convertToInteractive('df-daff81a6-3f65-4a93-9904-a585384f5ac2')\"\n",
              "              title=\"Convert this dataframe to an interactive table.\"\n",
              "              style=\"display:none;\">\n",
              "        \n",
              "  <svg xmlns=\"http://www.w3.org/2000/svg\" height=\"24px\"viewBox=\"0 0 24 24\"\n",
              "       width=\"24px\">\n",
              "    <path d=\"M0 0h24v24H0V0z\" fill=\"none\"/>\n",
              "    <path d=\"M18.56 5.44l.94 2.06.94-2.06 2.06-.94-2.06-.94-.94-2.06-.94 2.06-2.06.94zm-11 1L8.5 8.5l.94-2.06 2.06-.94-2.06-.94L8.5 2.5l-.94 2.06-2.06.94zm10 10l.94 2.06.94-2.06 2.06-.94-2.06-.94-.94-2.06-.94 2.06-2.06.94z\"/><path d=\"M17.41 7.96l-1.37-1.37c-.4-.4-.92-.59-1.43-.59-.52 0-1.04.2-1.43.59L10.3 9.45l-7.72 7.72c-.78.78-.78 2.05 0 2.83L4 21.41c.39.39.9.59 1.41.59.51 0 1.02-.2 1.41-.59l7.78-7.78 2.81-2.81c.8-.78.8-2.07 0-2.86zM5.41 20L4 18.59l7.72-7.72 1.47 1.35L5.41 20z\"/>\n",
              "  </svg>\n",
              "      </button>\n",
              "      \n",
              "  <style>\n",
              "    .colab-df-container {\n",
              "      display:flex;\n",
              "      flex-wrap:wrap;\n",
              "      gap: 12px;\n",
              "    }\n",
              "\n",
              "    .colab-df-convert {\n",
              "      background-color: #E8F0FE;\n",
              "      border: none;\n",
              "      border-radius: 50%;\n",
              "      cursor: pointer;\n",
              "      display: none;\n",
              "      fill: #1967D2;\n",
              "      height: 32px;\n",
              "      padding: 0 0 0 0;\n",
              "      width: 32px;\n",
              "    }\n",
              "\n",
              "    .colab-df-convert:hover {\n",
              "      background-color: #E2EBFA;\n",
              "      box-shadow: 0px 1px 2px rgba(60, 64, 67, 0.3), 0px 1px 3px 1px rgba(60, 64, 67, 0.15);\n",
              "      fill: #174EA6;\n",
              "    }\n",
              "\n",
              "    [theme=dark] .colab-df-convert {\n",
              "      background-color: #3B4455;\n",
              "      fill: #D2E3FC;\n",
              "    }\n",
              "\n",
              "    [theme=dark] .colab-df-convert:hover {\n",
              "      background-color: #434B5C;\n",
              "      box-shadow: 0px 1px 3px 1px rgba(0, 0, 0, 0.15);\n",
              "      filter: drop-shadow(0px 1px 2px rgba(0, 0, 0, 0.3));\n",
              "      fill: #FFFFFF;\n",
              "    }\n",
              "  </style>\n",
              "\n",
              "      <script>\n",
              "        const buttonEl =\n",
              "          document.querySelector('#df-daff81a6-3f65-4a93-9904-a585384f5ac2 button.colab-df-convert');\n",
              "        buttonEl.style.display =\n",
              "          google.colab.kernel.accessAllowed ? 'block' : 'none';\n",
              "\n",
              "        async function convertToInteractive(key) {\n",
              "          const element = document.querySelector('#df-daff81a6-3f65-4a93-9904-a585384f5ac2');\n",
              "          const dataTable =\n",
              "            await google.colab.kernel.invokeFunction('convertToInteractive',\n",
              "                                                     [key], {});\n",
              "          if (!dataTable) return;\n",
              "\n",
              "          const docLinkHtml = 'Like what you see? Visit the ' +\n",
              "            '<a target=\"_blank\" href=https://colab.research.google.com/notebooks/data_table.ipynb>data table notebook</a>'\n",
              "            + ' to learn more about interactive tables.';\n",
              "          element.innerHTML = '';\n",
              "          dataTable['output_type'] = 'display_data';\n",
              "          await google.colab.output.renderOutput(dataTable, element);\n",
              "          const docLink = document.createElement('div');\n",
              "          docLink.innerHTML = docLinkHtml;\n",
              "          element.appendChild(docLink);\n",
              "        }\n",
              "      </script>\n",
              "    </div>\n",
              "  </div>\n",
              "  "
            ]
          },
          "metadata": {},
          "execution_count": 71
        }
      ]
    },
    {
      "cell_type": "code",
      "source": [
        "data.head()"
      ],
      "metadata": {
        "colab": {
          "base_uri": "https://localhost:8080/",
          "height": 299
        },
        "id": "r9kNY07LQhFM",
        "outputId": "4b21f6bc-45f4-4746-98f0-c49ecca38cd0"
      },
      "execution_count": null,
      "outputs": [
        {
          "output_type": "execute_result",
          "data": {
            "text/plain": [
              "  class  aa_000 ab_000 ac_000 ad_000 ae_000 af_000 ag_000 ag_001 ag_002  ...  \\\n",
              "0   neg       6      0      0      0      0      0      0      0      0  ...   \n",
              "1   neg      90      0      0     66      0      0      0      0      0  ...   \n",
              "2   neg      30    0.0     16     14      0      0      0      0      0  ...   \n",
              "3   neg     444    0.0     14     12      0      0      0      0      0  ...   \n",
              "4   neg      82    0.0     12     10      0      0      0      0   1464  ...   \n",
              "\n",
              "  ee_002 ee_003 ee_004 ee_005 ee_006 ee_007 ee_008 ee_009 ef_000 eg_000  \n",
              "0     26      8     26     52      0      0      0      0      0      0  \n",
              "1   1268    526    554    300    118    260      0      0      0      0  \n",
              "2    480     84     74     50     46      0      0      0      0      0  \n",
              "3   1614   1144   3598   2460   1258   8524    110      0      0      0  \n",
              "4   1010    132    310     56     92   1292      0      0      0      0  \n",
              "\n",
              "[5 rows x 171 columns]"
            ],
            "text/html": [
              "\n",
              "  <div id=\"df-4fbc2c4d-e9f7-4a33-97d0-a119421fb21f\">\n",
              "    <div class=\"colab-df-container\">\n",
              "      <div>\n",
              "<style scoped>\n",
              "    .dataframe tbody tr th:only-of-type {\n",
              "        vertical-align: middle;\n",
              "    }\n",
              "\n",
              "    .dataframe tbody tr th {\n",
              "        vertical-align: top;\n",
              "    }\n",
              "\n",
              "    .dataframe thead th {\n",
              "        text-align: right;\n",
              "    }\n",
              "</style>\n",
              "<table border=\"1\" class=\"dataframe\">\n",
              "  <thead>\n",
              "    <tr style=\"text-align: right;\">\n",
              "      <th></th>\n",
              "      <th>class</th>\n",
              "      <th>aa_000</th>\n",
              "      <th>ab_000</th>\n",
              "      <th>ac_000</th>\n",
              "      <th>ad_000</th>\n",
              "      <th>ae_000</th>\n",
              "      <th>af_000</th>\n",
              "      <th>ag_000</th>\n",
              "      <th>ag_001</th>\n",
              "      <th>ag_002</th>\n",
              "      <th>...</th>\n",
              "      <th>ee_002</th>\n",
              "      <th>ee_003</th>\n",
              "      <th>ee_004</th>\n",
              "      <th>ee_005</th>\n",
              "      <th>ee_006</th>\n",
              "      <th>ee_007</th>\n",
              "      <th>ee_008</th>\n",
              "      <th>ee_009</th>\n",
              "      <th>ef_000</th>\n",
              "      <th>eg_000</th>\n",
              "    </tr>\n",
              "  </thead>\n",
              "  <tbody>\n",
              "    <tr>\n",
              "      <th>0</th>\n",
              "      <td>neg</td>\n",
              "      <td>6</td>\n",
              "      <td>0</td>\n",
              "      <td>0</td>\n",
              "      <td>0</td>\n",
              "      <td>0</td>\n",
              "      <td>0</td>\n",
              "      <td>0</td>\n",
              "      <td>0</td>\n",
              "      <td>0</td>\n",
              "      <td>...</td>\n",
              "      <td>26</td>\n",
              "      <td>8</td>\n",
              "      <td>26</td>\n",
              "      <td>52</td>\n",
              "      <td>0</td>\n",
              "      <td>0</td>\n",
              "      <td>0</td>\n",
              "      <td>0</td>\n",
              "      <td>0</td>\n",
              "      <td>0</td>\n",
              "    </tr>\n",
              "    <tr>\n",
              "      <th>1</th>\n",
              "      <td>neg</td>\n",
              "      <td>90</td>\n",
              "      <td>0</td>\n",
              "      <td>0</td>\n",
              "      <td>66</td>\n",
              "      <td>0</td>\n",
              "      <td>0</td>\n",
              "      <td>0</td>\n",
              "      <td>0</td>\n",
              "      <td>0</td>\n",
              "      <td>...</td>\n",
              "      <td>1268</td>\n",
              "      <td>526</td>\n",
              "      <td>554</td>\n",
              "      <td>300</td>\n",
              "      <td>118</td>\n",
              "      <td>260</td>\n",
              "      <td>0</td>\n",
              "      <td>0</td>\n",
              "      <td>0</td>\n",
              "      <td>0</td>\n",
              "    </tr>\n",
              "    <tr>\n",
              "      <th>2</th>\n",
              "      <td>neg</td>\n",
              "      <td>30</td>\n",
              "      <td>0.0</td>\n",
              "      <td>16</td>\n",
              "      <td>14</td>\n",
              "      <td>0</td>\n",
              "      <td>0</td>\n",
              "      <td>0</td>\n",
              "      <td>0</td>\n",
              "      <td>0</td>\n",
              "      <td>...</td>\n",
              "      <td>480</td>\n",
              "      <td>84</td>\n",
              "      <td>74</td>\n",
              "      <td>50</td>\n",
              "      <td>46</td>\n",
              "      <td>0</td>\n",
              "      <td>0</td>\n",
              "      <td>0</td>\n",
              "      <td>0</td>\n",
              "      <td>0</td>\n",
              "    </tr>\n",
              "    <tr>\n",
              "      <th>3</th>\n",
              "      <td>neg</td>\n",
              "      <td>444</td>\n",
              "      <td>0.0</td>\n",
              "      <td>14</td>\n",
              "      <td>12</td>\n",
              "      <td>0</td>\n",
              "      <td>0</td>\n",
              "      <td>0</td>\n",
              "      <td>0</td>\n",
              "      <td>0</td>\n",
              "      <td>...</td>\n",
              "      <td>1614</td>\n",
              "      <td>1144</td>\n",
              "      <td>3598</td>\n",
              "      <td>2460</td>\n",
              "      <td>1258</td>\n",
              "      <td>8524</td>\n",
              "      <td>110</td>\n",
              "      <td>0</td>\n",
              "      <td>0</td>\n",
              "      <td>0</td>\n",
              "    </tr>\n",
              "    <tr>\n",
              "      <th>4</th>\n",
              "      <td>neg</td>\n",
              "      <td>82</td>\n",
              "      <td>0.0</td>\n",
              "      <td>12</td>\n",
              "      <td>10</td>\n",
              "      <td>0</td>\n",
              "      <td>0</td>\n",
              "      <td>0</td>\n",
              "      <td>0</td>\n",
              "      <td>1464</td>\n",
              "      <td>...</td>\n",
              "      <td>1010</td>\n",
              "      <td>132</td>\n",
              "      <td>310</td>\n",
              "      <td>56</td>\n",
              "      <td>92</td>\n",
              "      <td>1292</td>\n",
              "      <td>0</td>\n",
              "      <td>0</td>\n",
              "      <td>0</td>\n",
              "      <td>0</td>\n",
              "    </tr>\n",
              "  </tbody>\n",
              "</table>\n",
              "<p>5 rows × 171 columns</p>\n",
              "</div>\n",
              "      <button class=\"colab-df-convert\" onclick=\"convertToInteractive('df-4fbc2c4d-e9f7-4a33-97d0-a119421fb21f')\"\n",
              "              title=\"Convert this dataframe to an interactive table.\"\n",
              "              style=\"display:none;\">\n",
              "        \n",
              "  <svg xmlns=\"http://www.w3.org/2000/svg\" height=\"24px\"viewBox=\"0 0 24 24\"\n",
              "       width=\"24px\">\n",
              "    <path d=\"M0 0h24v24H0V0z\" fill=\"none\"/>\n",
              "    <path d=\"M18.56 5.44l.94 2.06.94-2.06 2.06-.94-2.06-.94-.94-2.06-.94 2.06-2.06.94zm-11 1L8.5 8.5l.94-2.06 2.06-.94-2.06-.94L8.5 2.5l-.94 2.06-2.06.94zm10 10l.94 2.06.94-2.06 2.06-.94-2.06-.94-.94-2.06-.94 2.06-2.06.94z\"/><path d=\"M17.41 7.96l-1.37-1.37c-.4-.4-.92-.59-1.43-.59-.52 0-1.04.2-1.43.59L10.3 9.45l-7.72 7.72c-.78.78-.78 2.05 0 2.83L4 21.41c.39.39.9.59 1.41.59.51 0 1.02-.2 1.41-.59l7.78-7.78 2.81-2.81c.8-.78.8-2.07 0-2.86zM5.41 20L4 18.59l7.72-7.72 1.47 1.35L5.41 20z\"/>\n",
              "  </svg>\n",
              "      </button>\n",
              "      \n",
              "  <style>\n",
              "    .colab-df-container {\n",
              "      display:flex;\n",
              "      flex-wrap:wrap;\n",
              "      gap: 12px;\n",
              "    }\n",
              "\n",
              "    .colab-df-convert {\n",
              "      background-color: #E8F0FE;\n",
              "      border: none;\n",
              "      border-radius: 50%;\n",
              "      cursor: pointer;\n",
              "      display: none;\n",
              "      fill: #1967D2;\n",
              "      height: 32px;\n",
              "      padding: 0 0 0 0;\n",
              "      width: 32px;\n",
              "    }\n",
              "\n",
              "    .colab-df-convert:hover {\n",
              "      background-color: #E2EBFA;\n",
              "      box-shadow: 0px 1px 2px rgba(60, 64, 67, 0.3), 0px 1px 3px 1px rgba(60, 64, 67, 0.15);\n",
              "      fill: #174EA6;\n",
              "    }\n",
              "\n",
              "    [theme=dark] .colab-df-convert {\n",
              "      background-color: #3B4455;\n",
              "      fill: #D2E3FC;\n",
              "    }\n",
              "\n",
              "    [theme=dark] .colab-df-convert:hover {\n",
              "      background-color: #434B5C;\n",
              "      box-shadow: 0px 1px 3px 1px rgba(0, 0, 0, 0.15);\n",
              "      filter: drop-shadow(0px 1px 2px rgba(0, 0, 0, 0.3));\n",
              "      fill: #FFFFFF;\n",
              "    }\n",
              "  </style>\n",
              "\n",
              "      <script>\n",
              "        const buttonEl =\n",
              "          document.querySelector('#df-4fbc2c4d-e9f7-4a33-97d0-a119421fb21f button.colab-df-convert');\n",
              "        buttonEl.style.display =\n",
              "          google.colab.kernel.accessAllowed ? 'block' : 'none';\n",
              "\n",
              "        async function convertToInteractive(key) {\n",
              "          const element = document.querySelector('#df-4fbc2c4d-e9f7-4a33-97d0-a119421fb21f');\n",
              "          const dataTable =\n",
              "            await google.colab.kernel.invokeFunction('convertToInteractive',\n",
              "                                                     [key], {});\n",
              "          if (!dataTable) return;\n",
              "\n",
              "          const docLinkHtml = 'Like what you see? Visit the ' +\n",
              "            '<a target=\"_blank\" href=https://colab.research.google.com/notebooks/data_table.ipynb>data table notebook</a>'\n",
              "            + ' to learn more about interactive tables.';\n",
              "          element.innerHTML = '';\n",
              "          dataTable['output_type'] = 'display_data';\n",
              "          await google.colab.output.renderOutput(dataTable, element);\n",
              "          const docLink = document.createElement('div');\n",
              "          docLink.innerHTML = docLinkHtml;\n",
              "          element.appendChild(docLink);\n",
              "        }\n",
              "      </script>\n",
              "    </div>\n",
              "  </div>\n",
              "  "
            ]
          },
          "metadata": {},
          "execution_count": 72
        }
      ]
    },
    {
      "cell_type": "code",
      "source": [
        "data.shape"
      ],
      "metadata": {
        "colab": {
          "base_uri": "https://localhost:8080/"
        },
        "id": "SfoYX6FASelp",
        "outputId": "048568e6-203f-4fce-a176-9c83b804797a"
      },
      "execution_count": null,
      "outputs": [
        {
          "data": {
            "text/plain": [
              "(1414, 171)"
            ]
          },
          "execution_count": 21,
          "metadata": {},
          "output_type": "execute_result"
        }
      ]
    },
    {
      "cell_type": "code",
      "source": [
        "x = data.drop('class', axis=1)"
      ],
      "metadata": {
        "id": "PlSeY7YCSj8y"
      },
      "execution_count": null,
      "outputs": []
    },
    {
      "cell_type": "code",
      "source": [
        "y = data['class']"
      ],
      "metadata": {
        "id": "LcZiNidWSyBZ"
      },
      "execution_count": null,
      "outputs": []
    },
    {
      "cell_type": "code",
      "source": [
        "x.info(verbose=True,show_counts=True)"
      ],
      "metadata": {
        "colab": {
          "base_uri": "https://localhost:8080/"
        },
        "id": "fBXfdCP4S0tv",
        "outputId": "3131711f-f1c1-4950-f969-923dada92b3d"
      },
      "execution_count": null,
      "outputs": [
        {
          "output_type": "stream",
          "name": "stdout",
          "text": [
            "<class 'pandas.core.frame.DataFrame'>\n",
            "RangeIndex: 5000 entries, 0 to 4999\n",
            "Data columns (total 170 columns):\n",
            " #    Column  Non-Null Count  Dtype \n",
            "---   ------  --------------  ----- \n",
            " 0    aa_000  5000 non-null   int64 \n",
            " 1    ab_000  5000 non-null   object\n",
            " 2    ac_000  5000 non-null   object\n",
            " 3    ad_000  5000 non-null   object\n",
            " 4    ae_000  5000 non-null   object\n",
            " 5    af_000  5000 non-null   object\n",
            " 6    ag_000  5000 non-null   object\n",
            " 7    ag_001  5000 non-null   object\n",
            " 8    ag_002  5000 non-null   object\n",
            " 9    ag_003  5000 non-null   object\n",
            " 10   ag_004  5000 non-null   object\n",
            " 11   ag_005  5000 non-null   object\n",
            " 12   ag_006  5000 non-null   object\n",
            " 13   ag_007  5000 non-null   object\n",
            " 14   ag_008  5000 non-null   object\n",
            " 15   ag_009  5000 non-null   object\n",
            " 16   ah_000  5000 non-null   object\n",
            " 17   ai_000  5000 non-null   object\n",
            " 18   aj_000  5000 non-null   object\n",
            " 19   ak_000  5000 non-null   object\n",
            " 20   al_000  5000 non-null   object\n",
            " 21   am_0    5000 non-null   object\n",
            " 22   an_000  5000 non-null   object\n",
            " 23   ao_000  5000 non-null   object\n",
            " 24   ap_000  5000 non-null   object\n",
            " 25   aq_000  5000 non-null   object\n",
            " 26   ar_000  5000 non-null   object\n",
            " 27   as_000  5000 non-null   object\n",
            " 28   at_000  5000 non-null   object\n",
            " 29   au_000  5000 non-null   object\n",
            " 30   av_000  5000 non-null   object\n",
            " 31   ax_000  5000 non-null   object\n",
            " 32   ay_000  5000 non-null   object\n",
            " 33   ay_001  5000 non-null   object\n",
            " 34   ay_002  5000 non-null   object\n",
            " 35   ay_003  5000 non-null   object\n",
            " 36   ay_004  5000 non-null   object\n",
            " 37   ay_005  5000 non-null   object\n",
            " 38   ay_006  5000 non-null   object\n",
            " 39   ay_007  5000 non-null   object\n",
            " 40   ay_008  5000 non-null   object\n",
            " 41   ay_009  5000 non-null   object\n",
            " 42   az_000  5000 non-null   object\n",
            " 43   az_001  5000 non-null   object\n",
            " 44   az_002  5000 non-null   object\n",
            " 45   az_003  5000 non-null   object\n",
            " 46   az_004  5000 non-null   object\n",
            " 47   az_005  5000 non-null   object\n",
            " 48   az_006  5000 non-null   object\n",
            " 49   az_007  5000 non-null   object\n",
            " 50   az_008  5000 non-null   object\n",
            " 51   az_009  5000 non-null   object\n",
            " 52   ba_000  5000 non-null   object\n",
            " 53   ba_001  5000 non-null   object\n",
            " 54   ba_002  5000 non-null   object\n",
            " 55   ba_003  5000 non-null   object\n",
            " 56   ba_004  5000 non-null   object\n",
            " 57   ba_005  5000 non-null   object\n",
            " 58   ba_006  5000 non-null   object\n",
            " 59   ba_007  5000 non-null   object\n",
            " 60   ba_008  5000 non-null   object\n",
            " 61   ba_009  5000 non-null   object\n",
            " 62   bb_000  5000 non-null   object\n",
            " 63   bc_000  5000 non-null   object\n",
            " 64   bd_000  5000 non-null   object\n",
            " 65   be_000  5000 non-null   object\n",
            " 66   bf_000  5000 non-null   object\n",
            " 67   bg_000  5000 non-null   object\n",
            " 68   bh_000  5000 non-null   object\n",
            " 69   bi_000  5000 non-null   object\n",
            " 70   bj_000  5000 non-null   object\n",
            " 71   bk_000  5000 non-null   object\n",
            " 72   bl_000  5000 non-null   object\n",
            " 73   bm_000  5000 non-null   object\n",
            " 74   bn_000  5000 non-null   object\n",
            " 75   bo_000  5000 non-null   object\n",
            " 76   bp_000  5000 non-null   object\n",
            " 77   bq_000  5000 non-null   object\n",
            " 78   br_000  5000 non-null   object\n",
            " 79   bs_000  5000 non-null   object\n",
            " 80   bt_000  5000 non-null   object\n",
            " 81   bu_000  5000 non-null   object\n",
            " 82   bv_000  5000 non-null   object\n",
            " 83   bx_000  5000 non-null   object\n",
            " 84   by_000  5000 non-null   object\n",
            " 85   bz_000  5000 non-null   object\n",
            " 86   ca_000  5000 non-null   object\n",
            " 87   cb_000  5000 non-null   object\n",
            " 88   cc_000  5000 non-null   object\n",
            " 89   cd_000  5000 non-null   object\n",
            " 90   ce_000  5000 non-null   object\n",
            " 91   cf_000  5000 non-null   object\n",
            " 92   cg_000  5000 non-null   object\n",
            " 93   ch_000  5000 non-null   object\n",
            " 94   ci_000  5000 non-null   object\n",
            " 95   cj_000  5000 non-null   object\n",
            " 96   ck_000  5000 non-null   object\n",
            " 97   cl_000  5000 non-null   object\n",
            " 98   cm_000  5000 non-null   object\n",
            " 99   cn_000  5000 non-null   object\n",
            " 100  cn_001  5000 non-null   object\n",
            " 101  cn_002  5000 non-null   object\n",
            " 102  cn_003  5000 non-null   object\n",
            " 103  cn_004  5000 non-null   object\n",
            " 104  cn_005  5000 non-null   object\n",
            " 105  cn_006  5000 non-null   object\n",
            " 106  cn_007  5000 non-null   object\n",
            " 107  cn_008  5000 non-null   object\n",
            " 108  cn_009  5000 non-null   object\n",
            " 109  co_000  5000 non-null   object\n",
            " 110  cp_000  5000 non-null   object\n",
            " 111  cq_000  5000 non-null   object\n",
            " 112  cr_000  5000 non-null   object\n",
            " 113  cs_000  5000 non-null   object\n",
            " 114  cs_001  5000 non-null   object\n",
            " 115  cs_002  5000 non-null   object\n",
            " 116  cs_003  5000 non-null   object\n",
            " 117  cs_004  5000 non-null   object\n",
            " 118  cs_005  5000 non-null   object\n",
            " 119  cs_006  5000 non-null   object\n",
            " 120  cs_007  5000 non-null   object\n",
            " 121  cs_008  5000 non-null   object\n",
            " 122  cs_009  5000 non-null   object\n",
            " 123  ct_000  5000 non-null   object\n",
            " 124  cu_000  5000 non-null   object\n",
            " 125  cv_000  5000 non-null   object\n",
            " 126  cx_000  5000 non-null   object\n",
            " 127  cy_000  5000 non-null   object\n",
            " 128  cz_000  5000 non-null   object\n",
            " 129  da_000  5000 non-null   object\n",
            " 130  db_000  5000 non-null   object\n",
            " 131  dc_000  5000 non-null   object\n",
            " 132  dd_000  5000 non-null   object\n",
            " 133  de_000  5000 non-null   object\n",
            " 134  df_000  5000 non-null   object\n",
            " 135  dg_000  5000 non-null   object\n",
            " 136  dh_000  5000 non-null   object\n",
            " 137  di_000  5000 non-null   object\n",
            " 138  dj_000  5000 non-null   object\n",
            " 139  dk_000  5000 non-null   object\n",
            " 140  dl_000  5000 non-null   object\n",
            " 141  dm_000  5000 non-null   object\n",
            " 142  dn_000  5000 non-null   object\n",
            " 143  do_000  5000 non-null   object\n",
            " 144  dp_000  5000 non-null   object\n",
            " 145  dq_000  5000 non-null   object\n",
            " 146  dr_000  5000 non-null   object\n",
            " 147  ds_000  5000 non-null   object\n",
            " 148  dt_000  5000 non-null   object\n",
            " 149  du_000  5000 non-null   object\n",
            " 150  dv_000  5000 non-null   object\n",
            " 151  dx_000  5000 non-null   object\n",
            " 152  dy_000  5000 non-null   object\n",
            " 153  dz_000  5000 non-null   object\n",
            " 154  ea_000  5000 non-null   object\n",
            " 155  eb_000  5000 non-null   object\n",
            " 156  ec_00   5000 non-null   object\n",
            " 157  ed_000  5000 non-null   object\n",
            " 158  ee_000  5000 non-null   object\n",
            " 159  ee_001  5000 non-null   object\n",
            " 160  ee_002  5000 non-null   object\n",
            " 161  ee_003  5000 non-null   object\n",
            " 162  ee_004  5000 non-null   object\n",
            " 163  ee_005  5000 non-null   object\n",
            " 164  ee_006  5000 non-null   object\n",
            " 165  ee_007  5000 non-null   object\n",
            " 166  ee_008  5000 non-null   object\n",
            " 167  ee_009  5000 non-null   object\n",
            " 168  ef_000  5000 non-null   object\n",
            " 169  eg_000  5000 non-null   object\n",
            "dtypes: int64(1), object(169)\n",
            "memory usage: 6.5+ MB\n"
          ]
        }
      ]
    },
    {
      "cell_type": "code",
      "source": [
        "y"
      ],
      "metadata": {
        "colab": {
          "base_uri": "https://localhost:8080/"
        },
        "id": "AaeWtVsiTGHc",
        "outputId": "3ac73a72-d81d-4db6-fc49-c94f16e37635"
      },
      "execution_count": null,
      "outputs": [
        {
          "output_type": "execute_result",
          "data": {
            "text/plain": [
              "0       neg\n",
              "1       neg\n",
              "2       neg\n",
              "3       neg\n",
              "4       neg\n",
              "       ... \n",
              "4995    neg\n",
              "4996    neg\n",
              "4997    neg\n",
              "4998    neg\n",
              "4999    neg\n",
              "Name: class, Length: 5000, dtype: object"
            ]
          },
          "metadata": {},
          "execution_count": 76
        }
      ]
    },
    {
      "cell_type": "code",
      "source": [
        "y=pd.get_dummies(y, drop_first=True)"
      ],
      "metadata": {
        "id": "1ImrID52TrUp"
      },
      "execution_count": null,
      "outputs": []
    },
    {
      "cell_type": "code",
      "source": [
        "from sklearn.model_selection import train_test_split\n",
        "x_train, x_test, y_train, y_test = train_test_split(\n",
        "x, y, test_size=0.2, random_state=0)\n"
      ],
      "metadata": {
        "id": "VcSSeNuGTyzC"
      },
      "execution_count": null,
      "outputs": []
    },
    {
      "cell_type": "code",
      "source": [
        "print(x_train.shape)\n",
        "print(y_train.shape)\n",
        "print(x_test.shape)\n",
        "print(y_test.shape)"
      ],
      "metadata": {
        "colab": {
          "base_uri": "https://localhost:8080/"
        },
        "id": "Rst3UBMZUe8X",
        "outputId": "d895a621-54ec-4b15-db8c-bb6e666df17d"
      },
      "execution_count": null,
      "outputs": [
        {
          "output_type": "stream",
          "name": "stdout",
          "text": [
            "(4000, 170)\n",
            "(4000, 1)\n",
            "(1000, 170)\n",
            "(1000, 1)\n"
          ]
        }
      ]
    },
    {
      "cell_type": "code",
      "source": [
        "from sklearn.preprocessing import StandardScaler\n"
      ],
      "metadata": {
        "id": "_OH2RaCkVOVQ"
      },
      "execution_count": null,
      "outputs": []
    },
    {
      "cell_type": "code",
      "source": [
        "sc = StandardScaler()"
      ],
      "metadata": {
        "id": "f7zkictOYfK-"
      },
      "execution_count": null,
      "outputs": []
    },
    {
      "cell_type": "code",
      "source": [
        "x_train = sc.fit_transform(x_train)"
      ],
      "metadata": {
        "id": "gXMJoZJKYiXb"
      },
      "execution_count": null,
      "outputs": []
    },
    {
      "cell_type": "code",
      "source": [
        "x_test = sc.transform(x_test)"
      ],
      "metadata": {
        "id": "251zuq9AYzpK"
      },
      "execution_count": null,
      "outputs": []
    },
    {
      "cell_type": "code",
      "source": [
        "# building the model\n",
        "\n",
        "#importing the Keras libraries and packages\n",
        "\n",
        "import tensorflow.keras\n",
        "from tensorflow.keras.models import Sequential\n",
        "from tensorflow.keras.layers import Dense\n",
        "from tensorflow.keras.layers import Dropout\n"
      ],
      "metadata": {
        "id": "6MVl0c4gaGcw"
      },
      "execution_count": null,
      "outputs": []
    },
    {
      "cell_type": "code",
      "source": [
        "classifier = Sequential()\n",
        "classifier.add(Dense(units=10,kernel_initializer='he_uniform',activation='relu', input_dim=170))\n",
        "classifier.add(Dense(units=10,kernel_initializer='he_uniform',activation='relu'))\n",
        "classifier.add(Dense(units=1,kernel_initializer='glorot_uniform',activation='sigmoid'))"
      ],
      "metadata": {
        "id": "GQtlHpaevccJ"
      },
      "execution_count": null,
      "outputs": []
    },
    {
      "cell_type": "code",
      "source": [
        "# compiling the models\n",
        "\n",
        "classifier.compile(optimizer='adam',loss = 'binary_crossentropy',metrics=['accuracy'])"
      ],
      "metadata": {
        "id": "cndBVmUOxdmB"
      },
      "execution_count": null,
      "outputs": []
    },
    {
      "cell_type": "code",
      "source": [
        "classifier.summary()"
      ],
      "metadata": {
        "colab": {
          "base_uri": "https://localhost:8080/"
        },
        "id": "PyjAubxd09ay",
        "outputId": "5cb0e9de-49d4-4003-f965-2edf668126d2"
      },
      "execution_count": null,
      "outputs": [
        {
          "output_type": "stream",
          "name": "stdout",
          "text": [
            "Model: \"sequential_1\"\n",
            "_________________________________________________________________\n",
            " Layer (type)                Output Shape              Param #   \n",
            "=================================================================\n",
            " dense_3 (Dense)             (None, 10)                1710      \n",
            "                                                                 \n",
            " dense_4 (Dense)             (None, 10)                110       \n",
            "                                                                 \n",
            " dense_5 (Dense)             (None, 1)                 11        \n",
            "                                                                 \n",
            "=================================================================\n",
            "Total params: 1,831\n",
            "Trainable params: 1,831\n",
            "Non-trainable params: 0\n",
            "_________________________________________________________________\n"
          ]
        }
      ]
    },
    {
      "cell_type": "code",
      "source": [
        "# trainign the model\n",
        "\n",
        "model_history = classifier.fit(x_train,y_train, batch_size=10,epochs=30,validation_split=0.25)"
      ],
      "metadata": {
        "colab": {
          "base_uri": "https://localhost:8080/"
        },
        "id": "-8WeVbbNTJsz",
        "outputId": "991225ad-9215-4d69-f716-7984316d01f0"
      },
      "execution_count": null,
      "outputs": [
        {
          "output_type": "stream",
          "name": "stdout",
          "text": [
            "Epoch 1/30\n",
            "300/300 [==============================] - 1s 3ms/step - loss: 0.3872 - accuracy: 0.8800 - val_loss: 0.1406 - val_accuracy: 0.9820\n",
            "Epoch 2/30\n",
            "300/300 [==============================] - 1s 3ms/step - loss: 0.0903 - accuracy: 0.9827 - val_loss: 0.0743 - val_accuracy: 0.9840\n",
            "Epoch 3/30\n",
            "300/300 [==============================] - 1s 3ms/step - loss: 0.0467 - accuracy: 0.9877 - val_loss: 0.0658 - val_accuracy: 0.9820\n",
            "Epoch 4/30\n",
            "300/300 [==============================] - 1s 3ms/step - loss: 0.0320 - accuracy: 0.9903 - val_loss: 0.0667 - val_accuracy: 0.9830\n",
            "Epoch 5/30\n",
            "300/300 [==============================] - 1s 3ms/step - loss: 0.0312 - accuracy: 0.9890 - val_loss: 0.0579 - val_accuracy: 0.9830\n",
            "Epoch 6/30\n",
            "300/300 [==============================] - 1s 3ms/step - loss: 0.0231 - accuracy: 0.9917 - val_loss: 0.0637 - val_accuracy: 0.9830\n",
            "Epoch 7/30\n",
            "300/300 [==============================] - 1s 3ms/step - loss: 0.0202 - accuracy: 0.9933 - val_loss: 0.0616 - val_accuracy: 0.9850\n",
            "Epoch 8/30\n",
            "300/300 [==============================] - 1s 3ms/step - loss: 0.0185 - accuracy: 0.9933 - val_loss: 0.0625 - val_accuracy: 0.9860\n",
            "Epoch 9/30\n",
            "300/300 [==============================] - 1s 3ms/step - loss: 0.0218 - accuracy: 0.9937 - val_loss: 0.0629 - val_accuracy: 0.9830\n",
            "Epoch 10/30\n",
            "300/300 [==============================] - 1s 3ms/step - loss: 0.0148 - accuracy: 0.9943 - val_loss: 0.0729 - val_accuracy: 0.9820\n",
            "Epoch 11/30\n",
            "300/300 [==============================] - 1s 3ms/step - loss: 0.0119 - accuracy: 0.9963 - val_loss: 0.0761 - val_accuracy: 0.9820\n",
            "Epoch 12/30\n",
            "300/300 [==============================] - 1s 3ms/step - loss: 0.0118 - accuracy: 0.9957 - val_loss: 0.0789 - val_accuracy: 0.9850\n",
            "Epoch 13/30\n",
            "300/300 [==============================] - 1s 3ms/step - loss: 0.0104 - accuracy: 0.9970 - val_loss: 0.0798 - val_accuracy: 0.9830\n",
            "Epoch 14/30\n",
            "300/300 [==============================] - 1s 3ms/step - loss: 0.0101 - accuracy: 0.9970 - val_loss: 0.0883 - val_accuracy: 0.9860\n",
            "Epoch 15/30\n",
            "300/300 [==============================] - 1s 3ms/step - loss: 0.0095 - accuracy: 0.9963 - val_loss: 0.0913 - val_accuracy: 0.9840\n",
            "Epoch 16/30\n",
            "300/300 [==============================] - 1s 3ms/step - loss: 0.0096 - accuracy: 0.9970 - val_loss: 0.0915 - val_accuracy: 0.9830\n",
            "Epoch 17/30\n",
            "300/300 [==============================] - 1s 3ms/step - loss: 0.0074 - accuracy: 0.9973 - val_loss: 0.1023 - val_accuracy: 0.9820\n",
            "Epoch 18/30\n",
            "300/300 [==============================] - 1s 3ms/step - loss: 0.0131 - accuracy: 0.9943 - val_loss: 0.0833 - val_accuracy: 0.9850\n",
            "Epoch 19/30\n",
            "300/300 [==============================] - 1s 3ms/step - loss: 0.0082 - accuracy: 0.9973 - val_loss: 0.1051 - val_accuracy: 0.9830\n",
            "Epoch 20/30\n",
            "300/300 [==============================] - 1s 3ms/step - loss: 0.0056 - accuracy: 0.9983 - val_loss: 0.1138 - val_accuracy: 0.9830\n",
            "Epoch 21/30\n",
            "300/300 [==============================] - 1s 3ms/step - loss: 0.0050 - accuracy: 0.9987 - val_loss: 0.1150 - val_accuracy: 0.9840\n",
            "Epoch 22/30\n",
            "300/300 [==============================] - 1s 3ms/step - loss: 0.0043 - accuracy: 0.9987 - val_loss: 0.1218 - val_accuracy: 0.9800\n",
            "Epoch 23/30\n",
            "300/300 [==============================] - 1s 3ms/step - loss: 0.0043 - accuracy: 0.9987 - val_loss: 0.1167 - val_accuracy: 0.9850\n",
            "Epoch 24/30\n",
            "300/300 [==============================] - 1s 3ms/step - loss: 0.0040 - accuracy: 0.9987 - val_loss: 0.1388 - val_accuracy: 0.9820\n",
            "Epoch 25/30\n",
            "300/300 [==============================] - 1s 3ms/step - loss: 0.0080 - accuracy: 0.9973 - val_loss: 0.1547 - val_accuracy: 0.9800\n",
            "Epoch 26/30\n",
            "300/300 [==============================] - 1s 3ms/step - loss: 0.0132 - accuracy: 0.9947 - val_loss: 0.1527 - val_accuracy: 0.9770\n",
            "Epoch 27/30\n",
            "300/300 [==============================] - 1s 3ms/step - loss: 0.0066 - accuracy: 0.9977 - val_loss: 0.1457 - val_accuracy: 0.9810\n",
            "Epoch 28/30\n",
            "300/300 [==============================] - 1s 3ms/step - loss: 0.0044 - accuracy: 0.9977 - val_loss: 0.1167 - val_accuracy: 0.9840\n",
            "Epoch 29/30\n",
            "300/300 [==============================] - 1s 3ms/step - loss: 0.0031 - accuracy: 0.9987 - val_loss: 0.1347 - val_accuracy: 0.9810\n",
            "Epoch 30/30\n",
            "300/300 [==============================] - 1s 3ms/step - loss: 0.0023 - accuracy: 0.9993 - val_loss: 0.1358 - val_accuracy: 0.9840\n"
          ]
        }
      ]
    },
    {
      "cell_type": "code",
      "source": [
        "model_history.history.keys()"
      ],
      "metadata": {
        "colab": {
          "base_uri": "https://localhost:8080/"
        },
        "id": "7TbuGVJzVaD3",
        "outputId": "1b677477-0af1-46f3-cd63-240f4bfd57ff"
      },
      "execution_count": null,
      "outputs": [
        {
          "output_type": "execute_result",
          "data": {
            "text/plain": [
              "dict_keys(['loss', 'accuracy', 'val_loss', 'val_accuracy'])"
            ]
          },
          "metadata": {},
          "execution_count": 89
        }
      ]
    },
    {
      "cell_type": "code",
      "source": [
        "model_history.history['accuracy']"
      ],
      "metadata": {
        "colab": {
          "base_uri": "https://localhost:8080/"
        },
        "id": "W34OUFBbWZUc",
        "outputId": "35dd2ce6-fb78-4274-dc77-7b7987c925fa"
      },
      "execution_count": null,
      "outputs": [
        {
          "output_type": "execute_result",
          "data": {
            "text/plain": [
              "[0.8799999952316284,\n",
              " 0.9826666712760925,\n",
              " 0.987666666507721,\n",
              " 0.9903333187103271,\n",
              " 0.9890000224113464,\n",
              " 0.9916666746139526,\n",
              " 0.9933333396911621,\n",
              " 0.9933333396911621,\n",
              " 0.9936666488647461,\n",
              " 0.9943333268165588,\n",
              " 0.9963333606719971,\n",
              " 0.9956666827201843,\n",
              " 0.996999979019165,\n",
              " 0.996999979019165,\n",
              " 0.9963333606719971,\n",
              " 0.996999979019165,\n",
              " 0.9973333477973938,\n",
              " 0.9943333268165588,\n",
              " 0.9973333477973938,\n",
              " 0.9983333349227905,\n",
              " 0.9986666440963745,\n",
              " 0.9986666440963745,\n",
              " 0.9986666440963745,\n",
              " 0.9986666440963745,\n",
              " 0.9973333477973938,\n",
              " 0.9946666955947876,\n",
              " 0.9976666569709778,\n",
              " 0.9976666569709778,\n",
              " 0.9986666440963745,\n",
              " 0.9993333220481873]"
            ]
          },
          "metadata": {},
          "execution_count": 90
        }
      ]
    },
    {
      "cell_type": "code",
      "source": [
        "#list all data in history\n",
        "\n",
        "print(model_history.history.keys())\n",
        "#summerize the history of accuracy\n",
        "\n",
        "plt.plot(model_history.history['accuracy'])\n",
        "plt.plot(model_history.history['val_accuracy'])\n",
        "plt.title('model accuracy')\n",
        "plt.xlabel('epochs')\n",
        "plt.ylabel('accuracy')\n",
        "plt.legend(['train','test'], loc='upper left')\n",
        "plt.show()"
      ],
      "metadata": {
        "colab": {
          "base_uri": "https://localhost:8080/",
          "height": 313
        },
        "id": "QmnUmiXwafUL",
        "outputId": "3a06310d-1e68-4695-c035-7eb57d71248a"
      },
      "execution_count": null,
      "outputs": [
        {
          "output_type": "stream",
          "name": "stdout",
          "text": [
            "dict_keys(['loss', 'accuracy', 'val_loss', 'val_accuracy'])\n"
          ]
        },
        {
          "output_type": "display_data",
          "data": {
            "text/plain": [
              "<Figure size 432x288 with 1 Axes>"
            ],
            "image/png": "[encoded data removed]"
          },
          "metadata": {
            "needs_background": "light"
          }
        }
      ]
    },
    {
      "cell_type": "code",
      "source": [
        "#summerize the history of loss\n",
        "\n",
        "plt.plot(model_history.history['loss'])\n",
        "plt.plot(model_history.history['val_loss'])\n",
        "plt.title('model loss')\n",
        "plt.xlabel('epochs')\n",
        "plt.ylabel('loss')\n",
        "plt.legend(['train','test'], loc='upper left')\n",
        "plt.show()"
      ],
      "metadata": {
        "colab": {
          "base_uri": "https://localhost:8080/",
          "height": 295
        },
        "id": "uJGxDHFhbaZE",
        "outputId": "7cce0bf3-e450-4250-eb29-f73378ed4358"
      },
      "execution_count": null,
      "outputs": [
        {
          "output_type": "display_data",
          "data": {
            "text/plain": [
              "<Figure size 432x288 with 1 Axes>"
            ],
            "image/png": "[encoded data removed]"
          },
          "metadata": {
            "needs_background": "light"
          }
        }
      ]
    },
    {
      "cell_type": "code",
      "source": [
        "y_pred = classifier.predict(x_test)"
      ],
      "metadata": {
        "colab": {
          "base_uri": "https://localhost:8080/"
        },
        "id": "qjQqProbd8zx",
        "outputId": "c15abb22-1b46-442d-90d2-6ace0d8bf6d1"
      },
      "execution_count": null,
      "outputs": [
        {
          "output_type": "stream",
          "name": "stdout",
          "text": [
            "32/32 [==============================] - 0s 1ms/step\n"
          ]
        }
      ]
    },
    {
      "cell_type": "code",
      "source": [
        "y_pred=y_pred>0.05"
      ],
      "metadata": {
        "id": "rR2yQoiOeEXS"
      },
      "execution_count": null,
      "outputs": []
    },
    {
      "cell_type": "code",
      "source": [
        "x_test.shape"
      ],
      "metadata": {
        "colab": {
          "base_uri": "https://localhost:8080/"
        },
        "id": "ts4L8UMlfcyv",
        "outputId": "4e71ebec-807e-4dd2-fc7e-8b871d34e0a0"
      },
      "execution_count": null,
      "outputs": [
        {
          "output_type": "execute_result",
          "data": {
            "text/plain": [
              "(1000, 170)"
            ]
          },
          "metadata": {},
          "execution_count": 95
        }
      ]
    },
    {
      "cell_type": "code",
      "source": [
        "y_pred.shape"
      ],
      "metadata": {
        "colab": {
          "base_uri": "https://localhost:8080/"
        },
        "id": "yohjeNL1ffms",
        "outputId": "27ff08b4-2bef-4880-c1a7-69ffbfee74e4"
      },
      "execution_count": null,
      "outputs": [
        {
          "output_type": "execute_result",
          "data": {
            "text/plain": [
              "(1000, 1)"
            ]
          },
          "metadata": {},
          "execution_count": 96
        }
      ]
    },
    {
      "cell_type": "code",
      "source": [
        "from sklearn.metrics import confusion_matrix\n"
      ],
      "metadata": {
        "id": "iGCW0qDvebsh"
      },
      "execution_count": null,
      "outputs": []
    },
    {
      "cell_type": "code",
      "source": [
        "cm = confusion_matrix(y_test,y_pred)"
      ],
      "metadata": {
        "id": "GbDjXYChenFp"
      },
      "execution_count": null,
      "outputs": []
    },
    {
      "cell_type": "code",
      "source": [
        "cm"
      ],
      "metadata": {
        "colab": {
          "base_uri": "https://localhost:8080/"
        },
        "id": "QSLlE6MpeqzS",
        "outputId": "aa5235fd-92f1-414c-e1fa-3bbf7eb6812d"
      },
      "execution_count": null,
      "outputs": [
        {
          "output_type": "execute_result",
          "data": {
            "text/plain": [
              "array([[969,  17],\n",
              "       [  4,  10]])"
            ]
          },
          "metadata": {},
          "execution_count": 99
        }
      ]
    },
    {
      "cell_type": "code",
      "source": [
        "import time\n",
        "import os\n",
        "\n",
        "def saveModel_path(model_dir=\"SAVED_MODELS\"):\n",
        "    os.makedirs(model_dir, exist_ok=True)\n",
        "    fileName = time.strftime(\"Model_%Y_%m_%d_%H_%M_%S_.h5\")    \n",
        "    model_path = os.path.join(model_dir, fileName)\n",
        "    print(f\"your model will be saved at the following location\\n{model_path}\")\n",
        "   "
      ],
      "metadata": {
        "id": "Gt6tD8qBzm8k"
      },
      "execution_count": null,
      "outputs": []
    },
    {
      "cell_type": "code",
      "source": [
        "#saving the model\n",
        "\n",
        "classifier.save(saveModel_path())"
      ],
      "metadata": {
        "colab": {
          "base_uri": "https://localhost:8080/",
          "height": 378
        },
        "id": "E1IWwhlA0AFq",
        "outputId": "8efe5680-1e2a-492a-8fb0-a81d19e6058f"
      },
      "execution_count": null,
      "outputs": [
        {
          "output_type": "stream",
          "name": "stdout",
          "text": [
            "your model will be saved at the following location\n",
            "SAVED_MODELS/Model_2023_02_01_11_56_06_.h5\n"
          ]
        },
        {
          "output_type": "error",
          "ename": "AttributeError",
          "evalue": "ignored",
          "traceback": [
            "\u001b[0;31m---------------------------------------------------------------------------\u001b[0m",
            "\u001b[0;31mAttributeError\u001b[0m                            Traceback (most recent call last)",
            "\u001b[0;32m<ipython-input-134-bbed755ee07e>\u001b[0m in \u001b[0;36m<module>\u001b[0;34m\u001b[0m\n\u001b[1;32m      1\u001b[0m \u001b[0;31m#saving the model\u001b[0m\u001b[0;34m\u001b[0m\u001b[0;34m\u001b[0m\u001b[0;34m\u001b[0m\u001b[0m\n\u001b[1;32m      2\u001b[0m \u001b[0;34m\u001b[0m\u001b[0m\n\u001b[0;32m----> 3\u001b[0;31m \u001b[0mclassifier\u001b[0m\u001b[0;34m.\u001b[0m\u001b[0msave\u001b[0m\u001b[0;34m(\u001b[0m\u001b[0msaveModel_path\u001b[0m\u001b[0;34m(\u001b[0m\u001b[0;34m)\u001b[0m\u001b[0;34m)\u001b[0m\u001b[0;34m\u001b[0m\u001b[0;34m\u001b[0m\u001b[0m\n\u001b[0m",
            "\u001b[0;32m/usr/local/lib/python3.8/dist-packages/keras/utils/traceback_utils.py\u001b[0m in \u001b[0;36merror_handler\u001b[0;34m(*args, **kwargs)\u001b[0m\n\u001b[1;32m     65\u001b[0m     \u001b[0;32mexcept\u001b[0m \u001b[0mException\u001b[0m \u001b[0;32mas\u001b[0m \u001b[0me\u001b[0m\u001b[0;34m:\u001b[0m  \u001b[0;31m# pylint: disable=broad-except\u001b[0m\u001b[0;34m\u001b[0m\u001b[0;34m\u001b[0m\u001b[0m\n\u001b[1;32m     66\u001b[0m       \u001b[0mfiltered_tb\u001b[0m \u001b[0;34m=\u001b[0m \u001b[0m_process_traceback_frames\u001b[0m\u001b[0;34m(\u001b[0m\u001b[0me\u001b[0m\u001b[0;34m.\u001b[0m\u001b[0m__traceback__\u001b[0m\u001b[0;34m)\u001b[0m\u001b[0;34m\u001b[0m\u001b[0;34m\u001b[0m\u001b[0m\n\u001b[0;32m---> 67\u001b[0;31m       \u001b[0;32mraise\u001b[0m \u001b[0me\u001b[0m\u001b[0;34m.\u001b[0m\u001b[0mwith_traceback\u001b[0m\u001b[0;34m(\u001b[0m\u001b[0mfiltered_tb\u001b[0m\u001b[0;34m)\u001b[0m \u001b[0;32mfrom\u001b[0m \u001b[0;32mNone\u001b[0m\u001b[0;34m\u001b[0m\u001b[0;34m\u001b[0m\u001b[0m\n\u001b[0m\u001b[1;32m     68\u001b[0m     \u001b[0;32mfinally\u001b[0m\u001b[0;34m:\u001b[0m\u001b[0;34m\u001b[0m\u001b[0;34m\u001b[0m\u001b[0m\n\u001b[1;32m     69\u001b[0m       \u001b[0;32mdel\u001b[0m \u001b[0mfiltered_tb\u001b[0m\u001b[0;34m\u001b[0m\u001b[0;34m\u001b[0m\u001b[0m\n",
            "\u001b[0;32m/usr/local/lib/python3.8/dist-packages/keras/saving/saving_utils.py\u001b[0m in \u001b[0;36mis_hdf5_filepath\u001b[0;34m(filepath)\u001b[0m\n\u001b[1;32m    333\u001b[0m \u001b[0;34m\u001b[0m\u001b[0m\n\u001b[1;32m    334\u001b[0m \u001b[0;32mdef\u001b[0m \u001b[0mis_hdf5_filepath\u001b[0m\u001b[0;34m(\u001b[0m\u001b[0mfilepath\u001b[0m\u001b[0;34m)\u001b[0m\u001b[0;34m:\u001b[0m\u001b[0;34m\u001b[0m\u001b[0;34m\u001b[0m\u001b[0m\n\u001b[0;32m--> 335\u001b[0;31m   return (filepath.endswith('.h5') or filepath.endswith('.keras') or\n\u001b[0m\u001b[1;32m    336\u001b[0m           filepath.endswith('.hdf5'))\n",
            "\u001b[0;31mAttributeError\u001b[0m: 'NoneType' object has no attribute 'endswith'"
          ]
        }
      ]
    },
    {
      "cell_type": "code",
      "source": [
        "# hyperparamer tuner with keras tuner"
      ],
      "metadata": {
        "id": "lukfojAofqNR"
      },
      "execution_count": null,
      "outputs": []
    },
    {
      "cell_type": "code",
      "source": [
        "!pip install keras_tuner --upgrade"
      ],
      "metadata": {
        "colab": {
          "base_uri": "https://localhost:8080/"
        },
        "id": "vowWbAKOk9gu",
        "outputId": "06ebc8da-392e-4ed3-d9dc-2cf7b70ac647"
      },
      "execution_count": null,
      "outputs": [
        {
          "output_type": "stream",
          "name": "stdout",
          "text": [
            "Looking in indexes: https://pypi.org/simple, https://us-python.pkg.dev/colab-wheels/public/simple/\n",
            "Requirement already satisfied: keras_tuner in /usr/local/lib/python3.8/dist-packages (1.2.0)\n",
            "Requirement already satisfied: kt-legacy in /usr/local/lib/python3.8/dist-packages (from keras_tuner) (1.0.4)\n",
            "Requirement already satisfied: tensorflow>=2.0 in /usr/local/lib/python3.8/dist-packages (from keras_tuner) (2.9.2)\n",
            "Requirement already satisfied: requests in /usr/local/lib/python3.8/dist-packages (from keras_tuner) (2.25.1)\n",
            "Requirement already satisfied: ipython in /usr/local/lib/python3.8/dist-packages (from keras_tuner) (7.9.0)\n",
            "Requirement already satisfied: packaging in /usr/local/lib/python3.8/dist-packages (from keras_tuner) (21.3)\n",
            "Requirement already satisfied: grpcio<2.0,>=1.24.3 in /usr/local/lib/python3.8/dist-packages (from tensorflow>=2.0->keras_tuner) (1.51.1)\n",
            "Requirement already satisfied: gast<=0.4.0,>=0.2.1 in /usr/local/lib/python3.8/dist-packages (from tensorflow>=2.0->keras_tuner) (0.4.0)\n",
            "Requirement already satisfied: typing-extensions>=3.6.6 in /usr/local/lib/python3.8/dist-packages (from tensorflow>=2.0->keras_tuner) (4.4.0)\n",
            "Requirement already satisfied: keras-preprocessing>=1.1.1 in /usr/local/lib/python3.8/dist-packages (from tensorflow>=2.0->keras_tuner) (1.1.2)\n",
            "Requirement already satisfied: h5py>=2.9.0 in /usr/local/lib/python3.8/dist-packages (from tensorflow>=2.0->keras_tuner) (3.1.0)\n",
            "Requirement already satisfied: six>=1.12.0 in /usr/local/lib/python3.8/dist-packages (from tensorflow>=2.0->keras_tuner) (1.15.0)\n",
            "Requirement already satisfied: numpy>=1.20 in /usr/local/lib/python3.8/dist-packages (from tensorflow>=2.0->keras_tuner) (1.21.6)\n",
            "Requirement already satisfied: tensorflow-io-gcs-filesystem>=0.23.1 in /usr/local/lib/python3.8/dist-packages (from tensorflow>=2.0->keras_tuner) (0.29.0)\n",
            "Requirement already satisfied: google-pasta>=0.1.1 in /usr/local/lib/python3.8/dist-packages (from tensorflow>=2.0->keras_tuner) (0.2.0)\n",
            "Requirement already satisfied: flatbuffers<2,>=1.12 in /usr/local/lib/python3.8/dist-packages (from tensorflow>=2.0->keras_tuner) (1.12)\n",
            "Requirement already satisfied: libclang>=13.0.0 in /usr/local/lib/python3.8/dist-packages (from tensorflow>=2.0->keras_tuner) (15.0.6.1)\n",
            "Requirement already satisfied: tensorflow-estimator<2.10.0,>=2.9.0rc0 in /usr/local/lib/python3.8/dist-packages (from tensorflow>=2.0->keras_tuner) (2.9.0)\n",
            "Requirement already satisfied: opt-einsum>=2.3.2 in /usr/local/lib/python3.8/dist-packages (from tensorflow>=2.0->keras_tuner) (3.3.0)\n",
            "Requirement already satisfied: absl-py>=1.0.0 in /usr/local/lib/python3.8/dist-packages (from tensorflow>=2.0->keras_tuner) (1.3.0)\n",
            "Requirement already satisfied: protobuf<3.20,>=3.9.2 in /usr/local/lib/python3.8/dist-packages (from tensorflow>=2.0->keras_tuner) (3.19.6)\n",
            "Requirement already satisfied: wrapt>=1.11.0 in /usr/local/lib/python3.8/dist-packages (from tensorflow>=2.0->keras_tuner) (1.14.1)\n",
            "Requirement already satisfied: astunparse>=1.6.0 in /usr/local/lib/python3.8/dist-packages (from tensorflow>=2.0->keras_tuner) (1.6.3)\n",
            "Requirement already satisfied: termcolor>=1.1.0 in /usr/local/lib/python3.8/dist-packages (from tensorflow>=2.0->keras_tuner) (2.2.0)\n",
            "Requirement already satisfied: setuptools in /usr/local/lib/python3.8/dist-packages (from tensorflow>=2.0->keras_tuner) (57.4.0)\n",
            "Requirement already satisfied: keras<2.10.0,>=2.9.0rc0 in /usr/local/lib/python3.8/dist-packages (from tensorflow>=2.0->keras_tuner) (2.9.0)\n",
            "Requirement already satisfied: tensorboard<2.10,>=2.9 in /usr/local/lib/python3.8/dist-packages (from tensorflow>=2.0->keras_tuner) (2.9.1)\n",
            "Requirement already satisfied: traitlets>=4.2 in /usr/local/lib/python3.8/dist-packages (from ipython->keras_tuner) (5.7.1)\n",
            "Requirement already satisfied: prompt-toolkit<2.1.0,>=2.0.0 in /usr/local/lib/python3.8/dist-packages (from ipython->keras_tuner) (2.0.10)\n",
            "Requirement already satisfied: jedi>=0.10 in /usr/local/lib/python3.8/dist-packages (from ipython->keras_tuner) (0.18.2)\n",
            "Requirement already satisfied: pickleshare in /usr/local/lib/python3.8/dist-packages (from ipython->keras_tuner) (0.7.5)\n",
            "Requirement already satisfied: backcall in /usr/local/lib/python3.8/dist-packages (from ipython->keras_tuner) (0.2.0)\n",
            "Requirement already satisfied: pexpect in /usr/local/lib/python3.8/dist-packages (from ipython->keras_tuner) (4.8.0)\n",
            "Requirement already satisfied: decorator in /usr/local/lib/python3.8/dist-packages (from ipython->keras_tuner) (4.4.2)\n",
            "Requirement already satisfied: pygments in /usr/local/lib/python3.8/dist-packages (from ipython->keras_tuner) (2.6.1)\n",
            "Requirement already satisfied: pyparsing!=3.0.5,>=2.0.2 in /usr/local/lib/python3.8/dist-packages (from packaging->keras_tuner) (3.0.9)\n",
            "Requirement already satisfied: chardet<5,>=3.0.2 in /usr/local/lib/python3.8/dist-packages (from requests->keras_tuner) (4.0.0)\n",
            "Requirement already satisfied: idna<3,>=2.5 in /usr/local/lib/python3.8/dist-packages (from requests->keras_tuner) (2.10)\n",
            "Requirement already satisfied: certifi>=2017.4.17 in /usr/local/lib/python3.8/dist-packages (from requests->keras_tuner) (2022.12.7)\n",
            "Requirement already satisfied: urllib3<1.27,>=1.21.1 in /usr/local/lib/python3.8/dist-packages (from requests->keras_tuner) (1.24.3)\n",
            "Requirement already satisfied: wheel<1.0,>=0.23.0 in /usr/local/lib/python3.8/dist-packages (from astunparse>=1.6.0->tensorflow>=2.0->keras_tuner) (0.38.4)\n",
            "Requirement already satisfied: parso<0.9.0,>=0.8.0 in /usr/local/lib/python3.8/dist-packages (from jedi>=0.10->ipython->keras_tuner) (0.8.3)\n",
            "Requirement already satisfied: wcwidth in /usr/local/lib/python3.8/dist-packages (from prompt-toolkit<2.1.0,>=2.0.0->ipython->keras_tuner) (0.2.5)\n",
            "Requirement already satisfied: tensorboard-plugin-wit>=1.6.0 in /usr/local/lib/python3.8/dist-packages (from tensorboard<2.10,>=2.9->tensorflow>=2.0->keras_tuner) (1.8.1)\n",
            "Requirement already satisfied: google-auth<3,>=1.6.3 in /usr/local/lib/python3.8/dist-packages (from tensorboard<2.10,>=2.9->tensorflow>=2.0->keras_tuner) (2.16.0)\n",
            "Requirement already satisfied: tensorboard-data-server<0.7.0,>=0.6.0 in /usr/local/lib/python3.8/dist-packages (from tensorboard<2.10,>=2.9->tensorflow>=2.0->keras_tuner) (0.6.1)\n",
            "Requirement already satisfied: google-auth-oauthlib<0.5,>=0.4.1 in /usr/local/lib/python3.8/dist-packages (from tensorboard<2.10,>=2.9->tensorflow>=2.0->keras_tuner) (0.4.6)\n",
            "Requirement already satisfied: markdown>=2.6.8 in /usr/local/lib/python3.8/dist-packages (from tensorboard<2.10,>=2.9->tensorflow>=2.0->keras_tuner) (3.4.1)\n",
            "Requirement already satisfied: werkzeug>=1.0.1 in /usr/local/lib/python3.8/dist-packages (from tensorboard<2.10,>=2.9->tensorflow>=2.0->keras_tuner) (1.0.1)\n",
            "Requirement already satisfied: ptyprocess>=0.5 in /usr/local/lib/python3.8/dist-packages (from pexpect->ipython->keras_tuner) (0.7.0)\n",
            "Requirement already satisfied: rsa<5,>=3.1.4 in /usr/local/lib/python3.8/dist-packages (from google-auth<3,>=1.6.3->tensorboard<2.10,>=2.9->tensorflow>=2.0->keras_tuner) (4.9)\n",
            "Requirement already satisfied: pyasn1-modules>=0.2.1 in /usr/local/lib/python3.8/dist-packages (from google-auth<3,>=1.6.3->tensorboard<2.10,>=2.9->tensorflow>=2.0->keras_tuner) (0.2.8)\n",
            "Requirement already satisfied: cachetools<6.0,>=2.0.0 in /usr/local/lib/python3.8/dist-packages (from google-auth<3,>=1.6.3->tensorboard<2.10,>=2.9->tensorflow>=2.0->keras_tuner) (5.2.1)\n",
            "Requirement already satisfied: requests-oauthlib>=0.7.0 in /usr/local/lib/python3.8/dist-packages (from google-auth-oauthlib<0.5,>=0.4.1->tensorboard<2.10,>=2.9->tensorflow>=2.0->keras_tuner) (1.3.1)\n",
            "Requirement already satisfied: importlib-metadata>=4.4 in /usr/local/lib/python3.8/dist-packages (from markdown>=2.6.8->tensorboard<2.10,>=2.9->tensorflow>=2.0->keras_tuner) (6.0.0)\n",
            "Requirement already satisfied: zipp>=0.5 in /usr/local/lib/python3.8/dist-packages (from importlib-metadata>=4.4->markdown>=2.6.8->tensorboard<2.10,>=2.9->tensorflow>=2.0->keras_tuner) (3.11.0)\n",
            "Requirement already satisfied: pyasn1<0.5.0,>=0.4.6 in /usr/local/lib/python3.8/dist-packages (from pyasn1-modules>=0.2.1->google-auth<3,>=1.6.3->tensorboard<2.10,>=2.9->tensorflow>=2.0->keras_tuner) (0.4.8)\n",
            "Requirement already satisfied: oauthlib>=3.0.0 in /usr/local/lib/python3.8/dist-packages (from requests-oauthlib>=0.7.0->google-auth-oauthlib<0.5,>=0.4.1->tensorboard<2.10,>=2.9->tensorflow>=2.0->keras_tuner) (3.2.2)\n"
          ]
        }
      ]
    },
    {
      "cell_type": "code",
      "source": [
        "from kerastuner.tuners import RandomSearch"
      ],
      "metadata": {
        "id": "VI1TNdaPlO30"
      },
      "execution_count": null,
      "outputs": []
    },
    {
      "cell_type": "code",
      "source": [
        "from sklearn import metrics"
      ],
      "metadata": {
        "id": "xydryjYjgBpu"
      },
      "execution_count": null,
      "outputs": []
    },
    {
      "cell_type": "code",
      "source": [
        "def build_model(hp):\n",
        "  model=Sequential()\n",
        "  model.add(Dense(units=32,kernel_initializer = 'he_uniform',activation='relu',input_dim=170))\n",
        "  model.add(Dense(units = 32, kernel_initializer = 'he_uniform',activation='relu'))\n",
        "  model.add(Dense(1,activation='sigmoid'))\n",
        "  optimizer=hp.Choice(\"optimizer\",values=[\"adam\",\"sgd\",\"rmsprop\",\"adadelta\"])\n",
        "  model.compile(optimizer=optimizer,loss='binary_crossentropy',metrics=['accuracy'])\n",
        "  return model\n"
      ],
      "metadata": {
        "id": "RYXDbw7Rld5C"
      },
      "execution_count": null,
      "outputs": []
    },
    {
      "cell_type": "code",
      "source": [
        "tuner=RandomSearch(build_model,objective='val_accuracy',max_trials=5,directory='project1',project_name='aps-fault')\n"
      ],
      "metadata": {
        "id": "zopUw_sPoXOc"
      },
      "execution_count": null,
      "outputs": []
    },
    {
      "cell_type": "code",
      "source": [
        "tuner.search(x_train,y_train,validation_data=(x_test,y_test), epochs=5)"
      ],
      "metadata": {
        "colab": {
          "base_uri": "https://localhost:8080/"
        },
        "id": "3GVc_RoBgfNV",
        "outputId": "cc68b217-fbd4-4e0d-ae7a-5fee4156f73f"
      },
      "execution_count": null,
      "outputs": [
        {
          "output_type": "stream",
          "name": "stdout",
          "text": [
            "Trial 4 Complete [00h 00m 03s]\n",
            "val_accuracy: 0.9909999966621399\n",
            "\n",
            "Best val_accuracy So Far: 0.9929999709129333\n",
            "Total elapsed time: 00h 00m 12s\n"
          ]
        }
      ]
    },
    {
      "cell_type": "code",
      "source": [
        "# get best optimizer\n",
        "tuner.get_best_hyperparameters()[0].values\n"
      ],
      "metadata": {
        "colab": {
          "base_uri": "https://localhost:8080/"
        },
        "id": "tcJugnGShY2Q",
        "outputId": "34f2b6b5-d317-4f73-9dd8-7144ca561f35"
      },
      "execution_count": null,
      "outputs": [
        {
          "output_type": "execute_result",
          "data": {
            "text/plain": [
              "{'optimizer': 'rmsprop'}"
            ]
          },
          "metadata": {},
          "execution_count": 113
        }
      ]
    },
    {
      "cell_type": "code",
      "source": [
        "# get best model\n",
        "\n",
        "my_model = tuner.get_best_models(num_models=1)[0]"
      ],
      "metadata": {
        "id": "nXJhK4KUh9Zm"
      },
      "execution_count": null,
      "outputs": []
    },
    {
      "cell_type": "code",
      "source": [
        "my_model.summary()"
      ],
      "metadata": {
        "colab": {
          "base_uri": "https://localhost:8080/"
        },
        "id": "M58-ic8ji2dO",
        "outputId": "d12168eb-35f6-4fc3-bb90-b954af776870"
      },
      "execution_count": null,
      "outputs": [
        {
          "output_type": "stream",
          "name": "stdout",
          "text": [
            "Model: \"sequential\"\n",
            "_________________________________________________________________\n",
            " Layer (type)                Output Shape              Param #   \n",
            "=================================================================\n",
            " dense (Dense)               (None, 32)                5472      \n",
            "                                                                 \n",
            " dense_1 (Dense)             (None, 32)                1056      \n",
            "                                                                 \n",
            " dense_2 (Dense)             (None, 1)                 33        \n",
            "                                                                 \n",
            "=================================================================\n",
            "Total params: 6,561\n",
            "Trainable params: 6,561\n",
            "Non-trainable params: 0\n",
            "_________________________________________________________________\n"
          ]
        }
      ]
    },
    {
      "cell_type": "code",
      "source": [
        "for i in range( 2, 20):\n",
        "  print(i)\n"
      ],
      "metadata": {
        "colab": {
          "base_uri": "https://localhost:8080/"
        },
        "id": "2KspWZyCkUqL",
        "outputId": "e9435ccf-6a82-4c41-d23b-03144d5452e2"
      },
      "execution_count": null,
      "outputs": [
        {
          "output_type": "stream",
          "name": "stdout",
          "text": [
            "2\n",
            "3\n",
            "4\n",
            "5\n",
            "6\n",
            "7\n",
            "8\n",
            "9\n",
            "10\n",
            "11\n",
            "12\n",
            "13\n",
            "14\n",
            "15\n",
            "16\n",
            "17\n",
            "18\n",
            "19\n"
          ]
        }
      ]
    },
    {
      "cell_type": "code",
      "source": [
        "from tensorflow.keras import optimizers\n",
        "def build_model(hp):\n",
        "    model = Sequential()\n",
        "    for i in range(hp.Int('num_layers', 2, 20)):\n",
        "        model.add(Dense(units=hp.Int('units_' + str(i),\n",
        "                                            min_value=32,\n",
        "                                            max_value=512,\n",
        "                                            step=32),\n",
        "                               activation='relu'))\n",
        "    model.add(Dense(1, activation='sigmoid'))\n",
        "    model.compile(\n",
        "        optimizer=optimizers.Adam(\n",
        "            hp.Choice('learning_rate', [1e-2, 1e-3, 1e-4])),\n",
        "        loss='binary_crossentropy',\n",
        "        metrics=['accuracy'])\n",
        "    return model"
      ],
      "metadata": {
        "id": "tRxB9IfMlLy5"
      },
      "execution_count": null,
      "outputs": []
    },
    {
      "cell_type": "code",
      "source": [
        "tuner_second=RandomSearch(build_model,objective='val_accuracy',max_trials=5,directory='project3',project_name='aps-fault-sensor')\n"
      ],
      "metadata": {
        "id": "vX7ZkirymNdF"
      },
      "execution_count": null,
      "outputs": []
    },
    {
      "cell_type": "code",
      "source": [
        "tuner_second.search(x_train,y_train,epochs=5,validation_data=(x_test,y_test))\n"
      ],
      "metadata": {
        "colab": {
          "base_uri": "https://localhost:8080/"
        },
        "id": "Csv9K2dto7UY",
        "outputId": "7728ac0d-d05c-44cd-8aca-35968b16f391"
      },
      "execution_count": null,
      "outputs": [
        {
          "output_type": "stream",
          "name": "stdout",
          "text": [
            "Trial 5 Complete [00h 00m 11s]\n",
            "val_accuracy: 0.9879999756813049\n",
            "\n",
            "Best val_accuracy So Far: 0.9950000047683716\n",
            "Total elapsed time: 00h 00m 57s\n"
          ]
        }
      ]
    },
    {
      "cell_type": "code",
      "source": [
        "tuner_second.get_best_hyperparameters()[0].values\n"
      ],
      "metadata": {
        "colab": {
          "base_uri": "https://localhost:8080/"
        },
        "id": "JZ82WYYJpHu9",
        "outputId": "3c0d3831-ad39-4c1e-f4fe-9a3fd8f373c4"
      },
      "execution_count": null,
      "outputs": [
        {
          "output_type": "execute_result",
          "data": {
            "text/plain": [
              "{'num_layers': 9,\n",
              " 'units_0': 160,\n",
              " 'units_1': 512,\n",
              " 'learning_rate': 0.001,\n",
              " 'units_2': 416,\n",
              " 'units_3': 320,\n",
              " 'units_4': 192,\n",
              " 'units_5': 384,\n",
              " 'units_6': 448,\n",
              " 'units_7': 256,\n",
              " 'units_8': 384,\n",
              " 'units_9': 192,\n",
              " 'units_10': 96,\n",
              " 'units_11': 96,\n",
              " 'units_12': 448,\n",
              " 'units_13': 192}"
            ]
          },
          "metadata": {},
          "execution_count": 127
        }
      ]
    },
    {
      "cell_type": "code",
      "source": [
        "classifier2=tuner_second.get_best_models(num_models=1)[0]\n"
      ],
      "metadata": {
        "id": "378wo7t-pg-V"
      },
      "execution_count": null,
      "outputs": []
    },
    {
      "cell_type": "code",
      "source": [
        "classifier2.summary()\n"
      ],
      "metadata": {
        "colab": {
          "base_uri": "https://localhost:8080/",
          "height": 299
        },
        "id": "kW0sOgs3qHc-",
        "outputId": "ecd7d310-0a95-4241-e6de-01e065d538af"
      },
      "execution_count": null,
      "outputs": [
        {
          "output_type": "error",
          "ename": "ValueError",
          "evalue": "ignored",
          "traceback": [
            "\u001b[0;31m---------------------------------------------------------------------------\u001b[0m",
            "\u001b[0;31mValueError\u001b[0m                                Traceback (most recent call last)",
            "\u001b[0;32m<ipython-input-131-6be4506ce783>\u001b[0m in \u001b[0;36m<module>\u001b[0;34m\u001b[0m\n\u001b[0;32m----> 1\u001b[0;31m \u001b[0mclassifier2\u001b[0m\u001b[0;34m.\u001b[0m\u001b[0msummary\u001b[0m\u001b[0;34m(\u001b[0m\u001b[0;34m)\u001b[0m\u001b[0;34m\u001b[0m\u001b[0;34m\u001b[0m\u001b[0m\n\u001b[0m",
            "\u001b[0;32m/usr/local/lib/python3.8/dist-packages/keras/engine/training.py\u001b[0m in \u001b[0;36msummary\u001b[0;34m(self, line_length, positions, print_fn, expand_nested, show_trainable)\u001b[0m\n\u001b[1;32m   2867\u001b[0m     \"\"\"\n\u001b[1;32m   2868\u001b[0m     \u001b[0;32mif\u001b[0m \u001b[0;32mnot\u001b[0m \u001b[0mself\u001b[0m\u001b[0;34m.\u001b[0m\u001b[0mbuilt\u001b[0m\u001b[0;34m:\u001b[0m\u001b[0;34m\u001b[0m\u001b[0;34m\u001b[0m\u001b[0m\n\u001b[0;32m-> 2869\u001b[0;31m       raise ValueError(\n\u001b[0m\u001b[1;32m   2870\u001b[0m           \u001b[0;34m'This model has not yet been built. '\u001b[0m\u001b[0;34m\u001b[0m\u001b[0;34m\u001b[0m\u001b[0m\n\u001b[1;32m   2871\u001b[0m           \u001b[0;34m'Build the model first by calling `build()` or by calling '\u001b[0m\u001b[0;34m\u001b[0m\u001b[0;34m\u001b[0m\u001b[0m\n",
            "\u001b[0;31mValueError\u001b[0m: This model has not yet been built. Build the model first by calling `build()` or by calling the model on a batch of data."
          ]
        }
      ]
    },
    {
      "cell_type": "code",
      "source": [],
      "metadata": {
        "id": "RsGsjNBKqQ3w"
      },
      "execution_count": null,
      "outputs": []
    }
  ]
}